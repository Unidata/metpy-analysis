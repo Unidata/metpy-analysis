{
 "cells": [
  {
   "cell_type": "markdown",
   "metadata": {},
   "source": [
    "<a name=\"top\"></a>\n",
    "<div style=\"width:1000 px\">\n",
    "\n",
    "<div style=\"float:right; width:98 px; height:98px;\">\n",
    "<img src=\"https://raw.githubusercontent.com/Unidata/MetPy/master/src/metpy/plots/_static/unidata_150x150.png\" alt=\"Unidata Logo\" style=\"height: 98px;\">\n",
    "</div>\n",
    "\n",
    "<h1>Advanced MetPy: Quasi-Geostrophic Analysis</h1>\n",
    "    <h3>MetPy for Quantitative Analysis of Meteorological Data</h3>\n",
    "\n",
    "<div style=\"clear:both\"></div>\n",
    "</div>\n",
    "\n",
    "<hr style=\"height:2px;\">\n",
    "\n",
    "### Tasks\n",
    "0. <a href=\"#import\">Import required packages</a>\n",
    "0. <a href=\"#narr\">Access NARR Output</a>\n",
    "0. <a href=\"#prep\">Prepare data</a>\n",
    "0. <a href=\"#terma\">Compute Term A - Differential Vorticity Advection</a>\n",
    "0. <a href=\"#termb\">Compute Term B - Laplacian of Temperature Advection</a>\n",
    "0. <a href=\"#4panel\">Four Panel Plot</a>\n",
    "\n",
    "This is a tutorial demonstrates common analyses for Synoptic Meteorology courses with use of Unidata tools, specifically [MetPy](https://unidata.github.io/MetPy/latest/) and [Siphon](https://unidata.github.io/siphon/latest/). In this tutorial we will cover accessing, calculating, and plotting model output.\n",
    "\n",
    "### Background\n",
    "Let's investigate [The Storm of the Century (1993)](https://en.wikipedia.org/wiki/1993_Storm_of_the_Century). This storm was massive, spanning most of North America's eastern seaboard. The eastern US and Canada received record snow accumulations (50\"+ in the Blue Ridge Mountains and over 12\" at Dulles and LaGuardia), ships in the Gulf of Mexico were sunk, and Florida saw several tornadoes and 10 foot storm surges. \n",
    "\n",
    "<img src=\"https://upload.wikimedia.org/wikipedia/commons/7/79/1993_storm_century.jpg\"/>\n",
    "\n",
    "The storm produced over $2 billion in damges. However, this event also was a turning point for operational forecasters who were able to identify this severe threat <b>five days</b> in advance. This was uprecedented lead time in 1993 and allowed for several states to call for a state of emergency even before snow started falling. \n",
    "\n",
    "This event shows us a textbook example of QG forcing. By examining reanalysis output, we can see very distinct regions of ascent and descent around the mature cyclone. "
   ]
  },
  {
   "cell_type": "markdown",
   "metadata": {
    "tags": []
   },
   "source": [
    "### QG Omega Equation\n",
    "\n",
    "Quasigeostrophic (QG) theory allows us to diagnose the processes leading to vertical air motion and the structural evolution of extratropical cyclones. Researchers and forecasters alike use the QG Omega equation to describe vertical air motion as it relates to synoptic-scale vorticity growth and decay. In this lesson, we will calculate the primary forcing terms for ascent using reanalysis output and MetPy analysis functions.  \n",
    "\n",
    "Here is the QG Omega equation from Bluestein (1992; Eq. 5.6.11) with the two primary forcing terms on the right hand side of this equation. [More info](http://www.atmos.albany.edu/daes/atmclasses/atm401/PPTs-PDFs_files/qgomega-usersguide.pdf)\n",
    "\n",
    "$$\\left(\\nabla_p ^2 + \\frac{f^2}{\\sigma}\\frac{\\partial ^2}{\\partial p^2}\\right)\\omega = \n",
    "-\\frac{f_o}{\\sigma}\\frac{\\partial}{\\partial p}\\left[-\\vec{V_g} \\cdot \\nabla_p \\left(\\zeta_g + f \\right)\\right]\n",
    "-\\frac{R}{\\sigma p} \\nabla_p ^2 \\left[-\\vec{V_g} \\cdot \\nabla_p T \\right]$$\n",
    "\n",
    "The first term on the right hand side, which we will call **Term A** describes **differential vorticity advection**. \n",
    "\n",
    "The second term on the right hand side, which we will call **Term B**, describes the **lapacian of temperature advection**. \n",
    "\n",
    "#### Goal\n",
    "Calculate Term A and Term B at 700 hPa. \n"
   ]
  },
  {
   "cell_type": "markdown",
   "metadata": {},
   "source": [
    "<div class=\"alert alert-success\">\n",
    "    <b>EXERCISE</b>:\n",
    "    Examine requirements\n",
    "<ol>\n",
    "    <li>Given the QG Omega equation above, what variables do we need from our data source? <a href=\"https://www.ncei.noaa.gov/products/weather-climate-models/north-american-regional\" target=\"blank\">North American Regional Reanalysis (NARR)</a></li>\n",
    "    <li>Which <a href=\"https://unidata.github.io/MetPy/latest/api/generated/metpy.constants.html\" target=\"blank\">constants</a> are available in MetPy?</li>\n",
    "    </ol>\n",
    "</div>"
   ]
  },
  {
   "cell_type": "code",
   "execution_count": null,
   "metadata": {},
   "outputs": [],
   "source": [
    "# COMMENT YOUR RESPONSES HERE"
   ]
  },
  {
   "cell_type": "markdown",
   "metadata": {},
   "source": [
    "<a name=\"import\"></a>\n",
    "### Step 0: Import required packages"
   ]
  },
  {
   "cell_type": "code",
   "execution_count": null,
   "metadata": {},
   "outputs": [],
   "source": [
    "from datetime import datetime\n",
    "import cartopy.crs as ccrs\n",
    "import cartopy.feature as cfeature\n",
    "import matplotlib.pyplot as plt\n",
    "import metpy.calc as mpcalc\n",
    "import metpy.constants as mpconstants\n",
    "from metpy.units import units\n",
    "import numpy as np\n",
    "from siphon.catalog import TDSCatalog\n",
    "from siphon.ncss import NCSS\n",
    "import xarray as xr"
   ]
  },
  {
   "cell_type": "markdown",
   "metadata": {},
   "source": [
    "<a name=\"narr\"></a>\n",
    "### Step 1: Access NARR Output\n",
    "NARR output is made available on a THREDDS Data Server (TDS) hosted by NCEI. \n",
    "\n",
    "https://www.ncei.noaa.gov/products/weather-climate-models/north-american-regional\n",
    "\n",
    "We can use an NCSS query to access the remote data for our chosen storm. If you choose to use the 1993 Storm of the Century, that date will be March 13, 1993 at 1200Z"
   ]
  },
  {
   "cell_type": "code",
   "execution_count": null,
   "metadata": {},
   "outputs": [],
   "source": [
    "# Case Study Date\n",
    "year = 1993\n",
    "month = 3\n",
    "day = 13\n",
    "hour = 12\n",
    "\n",
    "dt = datetime(year, month, day, hour)"
   ]
  },
  {
   "cell_type": "markdown",
   "metadata": {},
   "source": [
    "From the [information page](https://www.ncei.noaa.gov/products/weather-climate-models/north-american-regional) on NCEI's website, we can select the [TDS](https://www.ncei.noaa.gov/thredds/catalog/model-narr-a-files/catalog.html) link in the NARR-A table and see that the files are organized in the format:\n",
    "\n",
    "`https://www.ncei.noaa.gov/thredds/catalog/model-narr-a-files/<yearmonth>/<yearmonthday>/catalog.html`\n",
    "\n",
    "We can use this structure to create a request for the file closest to the datetime `dt` of the storm of the century. We also replace .html with .xml to create the TDSCatalog object. \n",
    "\n",
    "We then use the `filter_time_nearest()` method on the datasets property of the catalog object to find the single dataset valid at the hour we specified above. "
   ]
  },
  {
   "cell_type": "code",
   "execution_count": null,
   "metadata": {},
   "outputs": [],
   "source": [
    "# Read NARR Data from THREDDS server\n",
    "base_url = 'https://www.ncei.noaa.gov/thredds/catalog/model-narr-a-files/'\n",
    "\n",
    "# Programmatically generate the URL to the day of data we want\n",
    "cat = TDSCatalog(f'{base_url}{dt:%Y%m}/{dt:%Y%m%d}/catalog.xml')\n",
    "\n",
    "# Have Siphon find the appropriate dataset\n",
    "tds_ds = cat.datasets.filter_time_nearest(dt)"
   ]
  },
  {
   "cell_type": "markdown",
   "metadata": {},
   "source": [
    "#### NCSS query\n",
    "Next, we set up access to request a subset of data from the file we've just identified using the NetCDF Subset Service (NCSS) on NCEI's TDS. \n",
    "\n",
    "NARR output contains [many variables](https://www.ncei.noaa.gov/thredds/ncss/model-narr-a-files/199303/19930313/narr-a_221_19930313_1200_000.grb/dataset.html). Instead of printing `ncss.variables` and listing all 100+ variable names, we can ask Python to only display variables that end with \"isobaric\". This suffix is how the TDS denotes GRIB fields that are specified on isobaric levels."
   ]
  },
  {
   "cell_type": "code",
   "execution_count": null,
   "metadata": {},
   "outputs": [],
   "source": [
    "# Open a subset service on the tds_ds dataset\n",
    "ncss = tds_ds.subset()\n",
    "\n",
    "# Print the available variable names on isobaric surfaces\n",
    "sorted(v for v in ncss.variables if v.endswith('isobaric'))"
   ]
  },
  {
   "cell_type": "markdown",
   "metadata": {},
   "source": [
    "Finally, we set up the NCSS query and get our data. Given the two variables we identified at the top of this notebook, we request only geopotential height and temperature on isobaric surfaces within our spatiotemporal bounds. "
   ]
  },
  {
   "cell_type": "code",
   "execution_count": null,
   "metadata": {},
   "outputs": [],
   "source": [
    "# Create an NCSS query with our desired specifications\n",
    "query = ncss.query()\n",
    "query.lonlat_box(north=60, south=18, east=300, west=225)\n",
    "query.time(dt)\n",
    "query.add_lonlat()\n",
    "query.accept('netcdf')\n",
    "query.variables('Geopotential_height_isobaric',\n",
    "                'Temperature_isobaric')\n",
    "\n",
    "# Use the query to obtain our NetCDF data\n",
    "data = ncss.get_data(query)"
   ]
  },
  {
   "cell_type": "markdown",
   "metadata": {},
   "source": [
    "Next, open the data with xarray and parse it with MetPy for CF conventions, also assigning lat/lon values"
   ]
  },
  {
   "cell_type": "code",
   "execution_count": null,
   "metadata": {},
   "outputs": [],
   "source": [
    "# Open data with xarray, and parse it with MetPy\n",
    "ds = xr.open_dataset(xr.backends.NetCDF4DataStore(data)).metpy.parse_cf()\n",
    "\n",
    "# Assign latitude/longitude values to the dataset variables\n",
    "ds = ds.metpy.assign_latitude_longitude()"
   ]
  },
  {
   "cell_type": "markdown",
   "metadata": {},
   "source": [
    "<a name=\"prep\"></a>\n",
    "### Step 2: Prepare data\n",
    "Since we are calculating QG omega at 700 hPa, we begin by selecting just the geopotential height and temperature at the 700 hPa level into an xarray DataArray. We can easily do this using xarray's `.sel()` method and MetPy's units inside the selection to ensure we are selecting the correct level.\n",
    "\n",
    "Both terms A and B include a vertical pressure differential term, so we'll use the same method to also select the geopotential heights at the surrounding isobaric levels, 500 and 900 hPa.  \n",
    "\n",
    "Since we used the NCSS to select a single time, we'll also use the `.squeeze()` method [(documentation)](https://docs.xarray.dev/en/latest/generated/xarray.DataArray.squeeze.html) to remove the single-length time dimension, leaving us with a 2D DataArray. "
   ]
  },
  {
   "cell_type": "markdown",
   "metadata": {},
   "source": [
    "#### Select temperature and geopotential heights"
   ]
  },
  {
   "cell_type": "code",
   "execution_count": null,
   "metadata": {},
   "outputs": [],
   "source": [
    "# 700 hPa Temperature\n",
    "tmpk_700 = ds['Temperature_isobaric'].metpy.sel(vertical = 700 * units.hPa).squeeze()\n",
    "\n",
    "# 900, 700, 500 hPa Geopotential Height\n",
    "hght_900 = ds['Geopotential_height_isobaric'].metpy.sel(vertical = 900 * units.hPa).squeeze()\n",
    "hght_700 = ds['Geopotential_height_isobaric'].metpy.sel(vertical = 700 * units.hPa).squeeze()\n",
    "hght_500 = ds['Geopotential_height_isobaric'].metpy.sel(vertical = 500 * units.hPa).squeeze()\n",
    "\n",
    "# preview one of the new arrays\n",
    "hght_700"
   ]
  },
  {
   "cell_type": "markdown",
   "metadata": {},
   "source": [
    "For calculation purposes we want to smooth our variables a little to get to the \"synoptic values\" from the higher resolution dataset we are using"
   ]
  },
  {
   "cell_type": "code",
   "execution_count": null,
   "metadata": {},
   "outputs": [],
   "source": [
    "# Number of repetitions of smoothing function\n",
    "n_reps = 50\n",
    "\n",
    "# Apply the 9-point smoother\n",
    "hght_700s = mpcalc.smooth_n_point(hght_700, 9, n_reps)\n",
    "hght_500s = mpcalc.smooth_n_point(hght_500, 9, n_reps)\n",
    "hght_900s = mpcalc.smooth_n_point(hght_900, 9, n_reps)\n",
    "\n",
    "tmpk_700s = mpcalc.smooth_n_point(tmpk_700, 9, n_reps)\n",
    "tmpc_700s = tmpk_700s.metpy.convert_units('degC')"
   ]
  },
  {
   "cell_type": "markdown",
   "metadata": {},
   "source": [
    "#### Calculate geostrophic wind\n",
    "\n",
    "Our next step is to prepare for calculating the advection terms in the QG omega equation. Notice how in both terms A and B, the advection is done by the *geostrophic wind* rather than the total wind. Thus, we need to calculate the geostrophic wind, both the u and v components, next. "
   ]
  },
  {
   "cell_type": "markdown",
   "metadata": {},
   "source": [
    "<div class=\"alert alert-success\">\n",
    "    <b>EXERCISE</b>: Calculate u and v geostrophic wind\n",
    "    \n",
    "We can calculate the u and v components of the geostrophic wind from geopotential heights using the MetPy function <a href=\"https://unidata.github.io/MetPy/latest/api/generated/metpy.calc.geostrophic_wind.html#metpy.calc.geostrophic_wind\" target=\"blank\">geostrophic_wind()</a>. This function outputs a tuple, (ug, vg). You can see a preview the syntax for using this function in the <a href=\"https://unidata.github.io/MetPy/latest/tutorials/xarray_tutorial.html#calculations\" target=\"blank\">Xarray with MetPy</a> tutorial. \n",
    "    \n",
    "Task: <br>\n",
    "    Calculate the following variables. \n",
    "    \n",
    "Variables:\n",
    "     <ul>\n",
    "         <li>ug_900s, vg_900s: 900-hPa Geostrophic Wind</li>\n",
    "         <li>ug_700s, vg_700s: 700-hPa Geostrophic Wind</li>\n",
    "         <li>ug_500s, vg_500s: 500-hPa Geostrophic Wind</li>\n",
    "    </ul>\n",
    "    \n",
    "Hint: <br>\n",
    "    Ignore any optional inputs in this calculation\n",
    "</div>"
   ]
  },
  {
   "cell_type": "code",
   "execution_count": null,
   "metadata": {},
   "outputs": [],
   "source": [
    "# YOUR CODE GOES HERE"
   ]
  },
  {
   "cell_type": "markdown",
   "metadata": {},
   "source": [
    "#### Constants\n",
    "Finally, we define the constants we need for the calculation of terms A and B."
   ]
  },
  {
   "cell_type": "code",
   "execution_count": null,
   "metadata": {},
   "outputs": [],
   "source": [
    "# Set default static stability value\n",
    "sigma = 2.0e-6 * units('m^2 Pa^-2 s^-2')\n",
    "\n",
    "# Set f-plane at typical synoptic f0 value\n",
    "f0 = 1e-4 * units('s^-1')\n",
    "\n",
    "# Use dry gas constant from MetPy constants\n",
    "Rd = mpconstants.Rd"
   ]
  },
  {
   "cell_type": "markdown",
   "metadata": {},
   "source": [
    "#### Summary\n",
    "\n",
    "We have prepared the NARR dataset with the following 2D variables at time = 1993-03-13 12:00:\n",
    "\n",
    "- temperature at 700 hPa\n",
    "- geopotential height at 500, 700, and 900 hPa\n",
    "- u and v components of geostrophic wind at 500, 700, and 900 hPa\n",
    "\n",
    "We have also calculated or stored the following constants:\n",
    "- $\\sigma$\n",
    "- $f$\n",
    "- $R_d$"
   ]
  },
  {
   "cell_type": "markdown",
   "metadata": {},
   "source": [
    "<a name=\"terma\"></a>\n",
    "### Step 3: Compute Term A - Differential Vorticity Advection\n",
    "\n",
    "Recall our original task: Calculate Term A and Term B of the QG Omega Equation at 700 hPa. In this next step, we'll break down how to translate Term A (differential vorticity advection) from differential equation form to a calculation that can be make with the data we just prepared in Python. \n",
    "\n",
    "Here is Term A:\n",
    "\n",
    "$$-\\frac{f_o}{\\sigma}\\frac{\\partial}{\\partial p}\\left[-\\vec{V_g} \\cdot \\nabla_p \\left(\\zeta_g + f \\right)\\right]$$\n",
    "\n",
    "Recall that the right hand side of the QG Omega equation is the lapacian of $\\omega$, which scales as -(-w), or positive vertical motion. Term A tells us that for cyclonic vorticity advection increasing with height, this term is positive, indicating forcing for ascent. "
   ]
  },
  {
   "cell_type": "markdown",
   "metadata": {},
   "source": [
    "We will approach this calculation from the inside out in this order: \n",
    "1. absolute vorticity at two levels (e.g., 500 and 900 hPa) $$\\left(\\zeta_g + f \\right)$$\n",
    "2. absolute vorticity advection at same two levels $$\\left[-\\vec{V_g} \\cdot \\nabla_p \\left(\\zeta_g + f \\right)\\right]$$\n",
    "3. centered finite-difference between two levels (e.g., valid at 700 hPa )$$\\frac{\\partial}{\\partial p}\\left[-\\vec{V_g} \\cdot \\nabla_p \\left(\\zeta_g + f \\right)\\right]$$\n",
    "4. apply constants to calculate value of full term $$-\\frac{f_o}{\\sigma}\\frac{\\partial}{\\partial p}\\left[-\\vec{V_g} \\cdot \\nabla_p \\left(\\zeta_g + f \\right)\\right]$$"
   ]
  },
  {
   "cell_type": "markdown",
   "metadata": {},
   "source": [
    "**NOTE:** By definition, the advection term in MetPy is calculated as (using temperature advection as an example) is:\n",
    "\n",
    "$$-\\vec{V} \\cdot \\nabla_p T$$"
   ]
  },
  {
   "cell_type": "code",
   "execution_count": null,
   "metadata": {},
   "outputs": [],
   "source": [
    "# 1. absolute vorticity at two levels (e.g., 500 and 900 hPa)\n",
    "avor_900 = mpcalc.absolute_vorticity(ug_900s, vg_900s)\n",
    "avor_500 = mpcalc.absolute_vorticity(ug_500s, vg_500s)\n",
    "\n",
    "# 2. absolute vorticity advection at same two levels\n",
    "vortadv_900 = mpcalc.advection(avor_900, ug_900s, vg_900s)\n",
    "vortadv_500 = mpcalc.advection(avor_500, ug_500s, vg_500s)\n",
    "\n",
    "# 3. centered finite-difference between two levels (e.g., valid at 700 hPa )\n",
    "diff_avor = ((vortadv_900 - vortadv_500)/(400 * units.hPa).to_base_units())\n",
    "\n",
    "# 4. apply constants to calculate value of full term\n",
    "term_A = -(f0 / sigma.to_base_units() * diff_avor)\n",
    "\n",
    "# Examine the units of Term A\n",
    "print(term_A.data.units)"
   ]
  },
  {
   "cell_type": "markdown",
   "metadata": {},
   "source": [
    "#### Exploratory plot\n",
    "Our natural tendency is to visually explore the output we just created. Let's now take a cursory look at the results on a simple plot."
   ]
  },
  {
   "cell_type": "code",
   "execution_count": null,
   "metadata": {},
   "outputs": [],
   "source": [
    "fig = plt.figure()\n",
    "ax = plt.subplot(1,1,1)\n",
    "c = ax.contourf(term_A)\n",
    "plt.colorbar(c)"
   ]
  },
  {
   "cell_type": "markdown",
   "metadata": {},
   "source": [
    "<div class=\"alert alert-success\">\n",
    "    <b>Discussion</b>: \n",
    "\n",
    "There are a number of things in this exploratory plot that are unhelpful in understanding our output. What do you notice about the output? What are examples of things that we would want to change in a future iteration of this plot?\n",
    "\n",
    "</div>"
   ]
  },
  {
   "cell_type": "markdown",
   "metadata": {},
   "source": [
    "Comment your responses here (Markdown): \n",
    "\n",
    "- \n"
   ]
  },
  {
   "cell_type": "markdown",
   "metadata": {},
   "source": [
    "We will address these issues in our final plot, however, this exploratory plot explains why we will make the decisions we do in that final plot. "
   ]
  },
  {
   "cell_type": "markdown",
   "metadata": {},
   "source": [
    "<a name=\"termb\"></a>\n",
    "### Step 4: Compute Term B - Laplacian of Temperature Advection\n",
    "\n",
    "The next task in our goal is to calculate Term B, the lapacian of temperature advection.\n",
    "\n",
    "$$-\\frac{R}{\\sigma p} \\nabla_p ^2 \\left[-\\vec{V_g} \\cdot \\nabla_p T \\right]$$\n",
    "\n",
    "In this term, local maxima of warm advection result in positive values and thus, ascent. \n",
    "\n",
    "Using a similar method, we can calculate this term from the inside out. "
   ]
  },
  {
   "cell_type": "markdown",
   "metadata": {},
   "source": [
    "<div class=\"alert alert-success\">\n",
    "    <b>EXERCISE</b>: Compute Term B\n",
    "\n",
    "Compute Term B using the same inside out method as previous\n",
    "    \n",
    "Tasks:\n",
    "    \n",
    " <ol>\n",
    "     <li>Temperature advection at 700 hPa (tadv_700) $$\\left[-\\vec{V_g} \\cdot \\nabla_p T \\right]$$</li> \n",
    "     <li>Laplacian of Temp Adv. at 700 hPa (lap_tadv_700) $$\\nabla_p ^2 \\left[-\\vec{V_g} \\cdot \\nabla_p T \\right]$$</li>\n",
    "     <li>Final term B with appropriate constants (term_B) $$-\\frac{R}{\\sigma p} \\nabla_p ^2 \\left[-\\vec{V_g} \\cdot \\nabla_p T \\right]$$</li>\n",
    "     <li>Compare the output units of Term B with that of Term A</li>\n",
    "</ol>\n",
    "    \n",
    "For information on how to calculate a Laplacian using MetPy, see the <a href=\"https://unidata.github.io/MetPy/latest/api/generated/metpy.calc.laplacian.html\">documentation</a> on this function.\n",
    "    \n",
    "<b>STRETCH EXERCISE</b>: Term B Exploratory Plot\n",
    "\n",
    "With your additional time, create an exploratory plot similar to what we demonstrated for Term A. What considerations may be needed in the final plot?\n",
    "</div>"
   ]
  },
  {
   "cell_type": "code",
   "execution_count": null,
   "metadata": {
    "scrolled": true,
    "tags": []
   },
   "outputs": [],
   "source": [
    "# YOUR CODE GOES HERE"
   ]
  },
  {
   "cell_type": "markdown",
   "metadata": {},
   "source": [
    "<a name=\"4panel\"></a>\n",
    "### Step 5: Plot\n",
    "\n",
    "Now we're ready to more fully examine the results of our calculations and present the information within context. The slides below describe the details of what we will prepare in our final 4-panel plot including the data scaling, geographic context, synoptic context, and final map surrounds. "
   ]
  },
  {
   "cell_type": "code",
   "execution_count": 1,
   "metadata": {
    "jupyter": {
     "source_hidden": true
    },
    "tags": []
   },
   "outputs": [
    {
     "data": {
      "application/vnd.jupyter.widget-view+json": {
       "model_id": "f336b3a3776e496695e57a4641351fed",
       "version_major": 2,
       "version_minor": 0
      },
      "text/plain": [
       "interactive(children=(IntSlider(value=1, description='Slide', max=5, min=1), Output()), _dom_classes=('widget-…"
      ]
     },
     "metadata": {},
     "output_type": "display_data"
    }
   ],
   "source": [
    "# Run this cell to view the widget\n",
    "import ipywidgets as wg\n",
    "from IPython.display import Image\n",
    "\n",
    "w=800\n",
    "def f(Slide):\n",
    "    if Slide == 1:\n",
    "        return Image(url='https://elearning.unidata.ucar.edu/metpy/QuantitativeAnalysisILT/QGnbGraphics/Slide1.png', width=w)\n",
    "    elif Slide == 2:\n",
    "        return Image(url='https://elearning.unidata.ucar.edu/metpy/QuantitativeAnalysisILT/QGnbGraphics/Slide2.png', width=w)\n",
    "    elif Slide == 3:\n",
    "        return Image(url='https://elearning.unidata.ucar.edu/metpy/QuantitativeAnalysisILT/QGnbGraphics/Slide3.png', width=w)\n",
    "    elif Slide == 4:\n",
    "        return Image(url='https://elearning.unidata.ucar.edu/metpy/QuantitativeAnalysisILT/QGnbGraphics/Slide4.png', width=w)\n",
    "    else:\n",
    "        return Image(url='https://elearning.unidata.ucar.edu/metpy/QuantitativeAnalysisILT/QGnbGraphics/Slide5.png', width=w)\n",
    "\n",
    "wg.interact(f, Slide=wg.IntSlider(min=1,max=5,step=1));"
   ]
  },
  {
   "cell_type": "code",
   "execution_count": null,
   "metadata": {},
   "outputs": [],
   "source": [
    "# Prepare filled contours (omega and omega equation terms)\n",
    "\n",
    "# scale terms by 10^11\n",
    "term_A_scaled = term_A*10**11\n",
    "term_B_scaled = term_B*10**11\n",
    "\n",
    "# contour interval for omega and omega equation terms\n",
    "clev_omega = np.arange(-5, 5.1, .5)"
   ]
  },
  {
   "cell_type": "code",
   "execution_count": null,
   "metadata": {},
   "outputs": [],
   "source": [
    "# Prepare geographic context\n",
    "\n",
    "# Projection of the NARR data\n",
    "dataproj = ds.Geopotential_height_isobaric.metpy.cartopy_crs\n",
    "\n",
    "# Projection of the final plot\n",
    "plotproj = ccrs.LambertConformal()\n",
    "\n",
    "# Create x/y coordinate arrays of the same size as the data\n",
    "x = ds.x\n",
    "y = ds.y\n",
    "xx, yy = np.meshgrid(x, y)"
   ]
  },
  {
   "cell_type": "code",
   "execution_count": null,
   "metadata": {},
   "outputs": [],
   "source": [
    "# Prepare synoptic context\n",
    "\n",
    "# set height contour intervals (CINT)\n",
    "# CINT 500 hPa Heights\n",
    "clev_hght_500 = np.arange(0, 7000, 60)\n",
    "# CINT 700 hPa Heights\n",
    "clev_hght_700 = np.arange(0, 7000, 30)\n",
    "\n",
    "# Set a barb skip interval; plot every 8th barb\n",
    "barb_skip = (slice(None, None, 8), slice(None, None, 8))"
   ]
  },
  {
   "cell_type": "markdown",
   "metadata": {},
   "source": [
    "#### Start 4-panel Figure"
   ]
  },
  {
   "cell_type": "code",
   "execution_count": null,
   "metadata": {},
   "outputs": [],
   "source": [
    "# Format the valid time for titles\n",
    "vtime_str = str(ds.time1.dt.strftime('%Y-%m-%d %H%MZ').values)\n",
    "\n",
    "# Set figure size\n",
    "fig = plt.figure(1, figsize=(24.5,17.))\n",
    "\n",
    "################################################################################\n",
    "# Upper-Left Panel\n",
    "ax=plt.subplot(2,2,1, projection=plotproj)\n",
    "ax.set_extent([-125., -73, 25., 50.],ccrs.PlateCarree())\n",
    "ax.add_feature(cfeature.COASTLINE, linewidth=0.5)\n",
    "ax.add_feature(cfeature.STATES, linewidth=0.5)\n",
    "\n",
    "# Contour: 700 hPa heights\n",
    "cs = ax.contour(xx, yy, hght_700s, clev_hght_700, colors='k',\n",
    "                linewidths=1.5, linestyles='solid', transform=dataproj)\n",
    "plt.clabel(cs, fontsize=10, inline=1, inline_spacing=3, fmt='%i',\n",
    "           rightside_up=True, use_clabeltext=True)\n",
    "\n",
    "# Filled Contours: Term A scaled\n",
    "cf = ax.contourf(xx, yy, term_A_scaled, clev_omega,\n",
    "                 cmap=plt.cm.RdYlBu_r, extend='both', transform=dataproj)\n",
    "plt.colorbar(cf, orientation='horizontal', pad=0.0, aspect=50, extendrect=True, \n",
    "             label='Forcing Term A QG Omega ($*10^{11}$ kg m$^{-3}$ s$^{-3}$)')\n",
    "\n",
    "# Barbs: Total Winds\n",
    "ax.barbs(xx[barb_skip], yy[barb_skip],\n",
    "         ug_700s.metpy.convert_units('kt').values[barb_skip],\n",
    "         vg_700s.metpy.convert_units('kt').values[barb_skip],\n",
    "         transform=dataproj)\n",
    "\n",
    "# Titles\n",
    "plt.title('700 hPa Geopotential Heights (m), Total Winds (kt), and\\n'\n",
    "          'Forcing Term A QG Omega ($*10^{11}$ kg m$^{-3}$ s$^{-3}$)',loc='left')\n",
    "plt.title(f'VALID: {vtime_str}', loc='right')\n",
    "\n",
    "################################################################################\n",
    "# Lower-Left Panel\n",
    "ax=plt.subplot(2,2,3, projection=plotproj)\n",
    "ax.set_extent([-125., -73, 25., 50.],ccrs.PlateCarree())\n",
    "ax.add_feature(cfeature.COASTLINE, linewidth=0.5)\n",
    "ax.add_feature(cfeature.STATES, linewidth=0.5)\n",
    "\n",
    "# Contour: 700 hPa heights\n",
    "cs = ax.contour(xx, yy, hght_700s, clev_hght_700, colors='k',\n",
    "                linewidths=1.5, linestyles='solid', transform=dataproj)\n",
    "plt.clabel(cs, fontsize=10, inline=1, inline_spacing=3, fmt='%i',\n",
    "           rightside_up=True, use_clabeltext=True)\n",
    "\n",
    "# Filled Contours: Term B scaled\n",
    "cf = ax.contourf(xx, yy, term_B_scaled, clev_omega,\n",
    "                 cmap=plt.cm.RdYlBu_r, extend='both', transform=dataproj)\n",
    "plt.colorbar(cf, orientation='horizontal', pad=0.0, aspect=50, extendrect=True, \n",
    "             label='Forcing Term B QG Omega ($*10^{11}$ kg m$^{-3}$ s$^{-3}$)')\n",
    "\n",
    "# Barbs: Total Winds\n",
    "ax.barbs(xx[barb_skip], yy[barb_skip],\n",
    "         ug_700s.metpy.convert_units('kt').values[barb_skip],\n",
    "         vg_700s.metpy.convert_units('kt').values[barb_skip],\n",
    "         transform=dataproj)\n",
    "\n",
    "# Titles\n",
    "plt.title('700 hPa Geopotential Heights (m), Total Winds (kt), and\\n'\n",
    "          'Forcing Term B QG Omega ($*10^{11}$ kg m$^{-3}$ s$^{-3}$)',loc='left')\n",
    "plt.title(f'VALID: {vtime_str}', loc='right')\n",
    "\n",
    "################################################################################\n",
    "# Upper-Right Panel\n",
    "ax=plt.subplot(2,2,2, projection=plotproj)\n",
    "ax.set_extent([-125., -73, 25., 50.],ccrs.PlateCarree())\n",
    "ax.add_feature(cfeature.COASTLINE, linewidth=0.5)\n",
    "ax.add_feature(cfeature.STATES, linewidth=0.5)\n",
    "\n",
    "# Contour: 500 hPa heights\n",
    "cs = ax.contour(xx, yy, hght_500s, clev_hght_500, colors='k',\n",
    "                linewidths=1.5, linestyles='solid', transform=dataproj)\n",
    "plt.clabel(cs, fontsize=10, inline=1, inline_spacing=3, fmt='%i',\n",
    "           rightside_up=True, use_clabeltext=True)\n",
    "\n",
    "# Filled Contours: Term A scaled\n",
    "cf = ax.contourf(xx, yy, (term_A_scaled+term_B_scaled), clev_omega,\n",
    "                 cmap=plt.cm.RdYlBu_r, extend='both', transform=dataproj)\n",
    "plt.colorbar(cf, orientation='horizontal', pad=0.0, aspect=50, extendrect=True, \n",
    "             label='Total QG Omega Forcing ($*10^{11}$ kg m$^{-3}$ s$^{-3}$)')\n",
    "\n",
    "# Barbs: Total Winds\n",
    "ax.barbs(xx[barb_skip], yy[barb_skip],\n",
    "         ug_500s.metpy.convert_units('kt').values[barb_skip],\n",
    "         vg_500s.metpy.convert_units('kt').values[barb_skip],\n",
    "         transform=dataproj)\n",
    "\n",
    "# Titles\n",
    "plt.title('500 hPa Geopotential Heights (m), Total Winds (kt), and\\n'\n",
    "          'Total QG Omega Forcing ($*10^{11}$ kg m$^{-3}$ s$^{-3}$)',loc='left')\n",
    "plt.title(f'VALID: {vtime_str}', loc='right')\n",
    "\n",
    "################################################################################\n",
    "# Lower-Right Panel\n",
    "ax=plt.subplot(2,2,4, projection=plotproj)\n",
    "ax.set_extent([-125., -73, 25., 50.],ccrs.PlateCarree())\n",
    "ax.add_feature(cfeature.COASTLINE, linewidth=0.5)\n",
    "ax.add_feature(cfeature.STATES, linewidth=0.5)\n",
    "\n",
    "# Contour: 500 hPa heights\n",
    "cs = ax.contour(xx, yy, hght_500s, clev_hght_500, colors='k',\n",
    "                linewidths=1.5, linestyles='solid', transform=dataproj)\n",
    "plt.clabel(cs, fontsize=10, inline=1, inline_spacing=3, fmt='%i',\n",
    "           rightside_up=True, use_clabeltext=True)\n",
    "\n",
    "# Filled Contours: Term A - Term B scaled\n",
    "cf = ax.contourf(xx, yy, (term_A_scaled-term_B_scaled), clev_omega,\n",
    "                 cmap='bwr', extend='both', transform=dataproj)\n",
    "plt.colorbar(cf, orientation='horizontal', pad=0.0, aspect=50, extendrect=True, \n",
    "             label='Forcing Term A Minus Term B QG Omega ($*10^{11}$ kg m$^{-3}$ s$^{-3}$)')\n",
    "\n",
    "# Barbs: Total Winds\n",
    "ax.barbs(xx[barb_skip], yy[barb_skip],\n",
    "         ug_500s.metpy.convert_units('kt').values[barb_skip],\n",
    "         vg_500s.metpy.convert_units('kt').values[barb_skip],\n",
    "         transform=dataproj)\n",
    "\n",
    "# Titles\n",
    "plt.title('500 hPa Geopotential Heights (m), Total Winds (kt), and\\n'\n",
    "          'Forcing Term A Minus Term B QG Omega ($*10^{11}$ kg m$^{-3}$ s$^{-3}$)',loc='left')\n",
    "plt.title(f'VALID: {vtime_str}', loc='right')"
   ]
  },
  {
   "cell_type": "markdown",
   "metadata": {},
   "source": [
    "<div class=\"alert alert-success\">\n",
    "    <b>[OPTIONAL] EXERCISE</b>:\n",
    "     \n",
    "Modify one or more of the plots to display more information you are curious about, for example:\n",
    "    <ul>\n",
    "        <li>Change the combination of variables/levels in the plots</li>\n",
    "        <li>Change the visual presentation of information (colormaps, contour styles)</li>\n",
    "        <li>Add temperature contours</li>\n",
    "        <li>Change one plot to show just temperature, heights, and winds.</li>\n",
    "        <li>Change one plot to show just absolute vorticity (avor_500, avor_900), heights, and winds.</li>\n",
    "    </ul>\n",
    "</div>"
   ]
  },
  {
   "cell_type": "code",
   "execution_count": null,
   "metadata": {},
   "outputs": [],
   "source": [
    "# YOUR CODE GOES HERE"
   ]
  },
  {
   "cell_type": "markdown",
   "metadata": {},
   "source": [
    "## More Information\n",
    "\n",
    "### Further Practice\n",
    "Project Pythia: Xarray Tutorial: https://foundations.projectpythia.org/core/xarray.html\n",
    "\n",
    "Project Pythia: Cartopy Tutorial: https://foundations.projectpythia.org/core/cartopy.html\n",
    "\n",
    "MetPy User Guide: https://unidata.github.io/MetPy/latest/userguide\n",
    "\n",
    "MetPy Example Gallery: https://unidata.github.io/MetPy/latest/examples/index.html\n",
    "\n",
    "\n",
    "### Save Your Work\n",
    "<p>To save any of the files you modified or edited in this session:\n",
    "    <ol>\n",
    "        <li>Right click on any item in the left-side navigation pane</li>\n",
    "        <li>Select <b>Download</b></li>\n",
    "    </ol>\n",
    "</p>\n",
    "\n",
    "<p>\n",
    "    To recreate the Conda environment used for this session on your local computer:\n",
    "<ol>\n",
    "\t<li>\n",
    "\t\tOpen a terminal (Linux or MacOS) or Anaconda Prompt (Windows). <br>\n",
    "\t\tWindows users: If Anaconda Prompt does not exist on your computer, Conda is not installed. Proceed with step 2.2.\n",
    "\t</li>\n",
    "\t<li>\n",
    "\t\tConfirm that Conda is installed by executing: <br>\n",
    "\t\t<b>conda --version</b>\n",
    "\t\t<ol>\n",
    "\t\t\t<li>\n",
    "\t\t\t\tIf Conda is installed, a version number will be returned. Proceed to step 3.\n",
    "\t\t\t</li>\n",
    "\t\t\t<li>\n",
    "\t\t\t\tIf Conda is not installed, proceed with the installation instructions provided for your operating system at <a href=\"https://unidata.github.io/python-training/#installing-conda\" target=\"blank\">this link</a>, then proceed to step 3.\n",
    "\t\t\t</li>\n",
    "\t\t</ol>\n",
    "\t</li>\n",
    "\t<li>\n",
    "\t\tDownload the conda environment used in this workshop. On the link below, Shift + Right Click &gt; Save link as &gt; save the file as environment.yml in a location of your choosing.<br>\n",
    "\t\t<a href=\"https://raw.githubusercontent.com/Unidata/metpy-analysis/main/environment.yml\">https://raw.githubusercontent.com/Unidata/metpy-analysis/main/environment.yml</a>\n",
    "\t</li>\n",
    "\t<li>\n",
    "\t\tIn your terminal or command prompt, change directories to the location where the environment.yml file was saved. \n",
    "\t</li>\n",
    "\t<li>\n",
    "\t\tSet up the course Python environment with the following command. <br>\n",
    "\t\tNote: this will take a few minutes to complete. <br>\n",
    "\t\t<b>conda env create -f environment.yml</b>\n",
    "\t</li>\n",
    "\t<li>\n",
    "\t\tVerify that the environment installed correctly by looking for <b>metpy-analysis</b> in your conda environment list <br>\n",
    "\t\t<b>conda env list</b>\n",
    "\t</li>\n",
    "\t<li>\n",
    "\t\tTo use the new environment, activate the new environment<br>\n",
    "\t\t<b>conda activate metpy-analysis</b>\n",
    "\t</li>\n",
    "\t<li>\n",
    "\t\tLaunch Jupyter Lab<br>\n",
    "\t\t<b>jupyter lab</b>\n",
    "\t</li>\n",
    "</ol>\n",
    "  \n",
    "### Connect with Unidata\n",
    "https://twitter.com/unidata\n",
    "\n",
    "https://twitter.com/metpy\n",
    "\n",
    "https://youtube.com/unidatanews\n",
    "\n",
    "https://www.linkedin.com/company/unidatanews"
   ]
  },
  {
   "cell_type": "code",
   "execution_count": null,
   "metadata": {},
   "outputs": [],
   "source": []
  }
 ],
 "metadata": {
  "kernelspec": {
   "display_name": "Python 3 (ipykernel)",
   "language": "python",
   "name": "python3"
  },
  "language_info": {
   "codemirror_mode": {
    "name": "ipython",
    "version": 3
   },
   "file_extension": ".py",
   "mimetype": "text/x-python",
   "name": "python",
   "nbconvert_exporter": "python",
   "pygments_lexer": "ipython3",
   "version": "3.7.12"
  }
 },
 "nbformat": 4,
 "nbformat_minor": 4
}
