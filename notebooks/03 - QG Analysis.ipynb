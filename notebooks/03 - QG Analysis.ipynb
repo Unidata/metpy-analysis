{
 "cells": [
  {
   "cell_type": "markdown",
   "metadata": {},
   "source": [
    "<a name=\"top\"></a>\n",
    "<div style=\"width:1000 px\">\n",
    "\n",
    "<div style=\"float:right; width:98 px; height:98px;\">\n",
    "<img src=\"https://raw.githubusercontent.com/Unidata/MetPy/master/src/metpy/plots/_static/unidata_150x150.png\" alt=\"Unidata Logo\" style=\"height: 98px;\">\n",
    "</div>\n",
    "\n",
    "<h1>Advanced MetPy: Quasi-Geostrophic Analysis</h1>\n",
    "    <h3>AMS 2022 Short Course: MetPy for Quantitative Analysis of Meteorological Data</h3>\n",
    "\n",
    "<div style=\"clear:both\"></div>\n",
    "</div>\n",
    "\n",
    "<hr style=\"height:2px;\">\n",
    "\n",
    "### Tasks\n",
    "0. <a href=\"#import\">Import required packages</a>\n",
    "0. <a href=\"#narr\">Access NARR Output</a>\n",
    "0. <a href=\"#prep\">Prepare data</a>\n",
    "0. <a href=\"#terma\">Compute Term A - Differential Vorticity Advection</a>\n",
    "0. <a href=\"#termb\">Compute Term B - Laplacian of Temperature Advection</a>\n",
    "0. <a href=\"#4panel\">Four Panel Plot</a>\n",
    "\n",
    "This is a tutorial demonstrates common analyses for Synoptic Meteorology courses with use of Unidata tools, specifically [MetPy](https://unidata.github.io/MetPy/latest/) and [Siphon](https://unidata.github.io/siphon/latest/). In this tutorial we will cover accessing, calculating, and plotting model output.\n",
    "\n",
    "### Background\n",
    "Let's investigate [The Storm of the Century (1993)](https://en.wikipedia.org/wiki/1993_Storm_of_the_Century). This storm was massive, spanning most of North America's eastern seaboard. The eastern US and Canada received record snow accumulations (50\"+ in the Blue Ridge Mountains and over 12\" at Dulles and LaGuardia), ships in the Gulf of Mexico were sunk, and Florida saw several tornadoes and 10 foot storm surges. \n",
    "\n",
    "<img src=\"https://upload.wikimedia.org/wikipedia/commons/7/79/1993_storm_century.jpg\"/>\n",
    "\n",
    "The storm produced over $2 billion in damges. However, this event also was a turning point for operational forecasters who were able to identify this severe threat <b>five days</b> in advance. This was uprecedented lead time in 1993 and allowed for several states to call for a state of emergency even before snow started falling. \n",
    "\n",
    "This event shows us a textbook example of QG forcing. By examining reanalysis output, we can see very distinct regions of ascent and descent around the mature cyclone. However, please feel free to change the date used in this example to another event of your choice if desired."
   ]
  },
  {
   "cell_type": "markdown",
   "metadata": {
    "tags": []
   },
   "source": [
    "### QG Omega Equation\n",
    "\n",
    "Quasigeostrophic (QG) theory allows us to diagnose the processes leading to vertical air motion and the structural evolution of extratropical cyclones. Researchers and forecasters alike use the QG Omega equation to describe vertical air motion as it related to synoptic-scale vorticity growth and decay. In this lesson, we will calculate the primary forcing terms for ascent using reanalysis output and MetPy analysis functions.  \n",
    "\n",
    "Here is the QG Omega equation from Bluestein (1992; Eq. 5.6.11) with the two primary forcing terms on the right hand side of this equation. [More info](http://www.atmos.albany.edu/daes/atmclasses/atm401/PPTs-PDFs_files/qgomega-usersguide.pdf)\n",
    "\n",
    "$$\\left(\\nabla_p ^2 + \\frac{f^2}{\\sigma}\\frac{\\partial ^2}{\\partial p^2}\\right)\\omega = \n",
    "-\\frac{f_o}{\\sigma}\\frac{\\partial}{\\partial p}\\left[-\\vec{V_g} \\cdot \\nabla_p \\left(\\zeta_g + f \\right)\\right]\n",
    "-\\frac{R}{\\sigma p} \\nabla_p ^2 \\left[-\\vec{V_g} \\cdot \\nabla_p T \\right]$$\n",
    "\n",
    "The first term on the right hand side, which we will call **Term A** describes **differential vorticity advection**. \n",
    "\n",
    "The second term on the right hand side, which we will call **Term B**, describes the **lapacian of temperature advection**. \n",
    "\n",
    "#### Goal\n",
    "Calculate Term A and Term B at 700 hPa. \n"
   ]
  },
  {
   "cell_type": "markdown",
   "metadata": {},
   "source": [
    "<div class=\"alert alert-success\">\n",
    "    <b>EXERCISE</b>:\n",
    "    Examine requirements\n",
    "<ol>\n",
    "    <li>Given the QG Omega equation above, what variables do we need from our data source? <a href=\"https://www.ncei.noaa.gov/products/weather-climate-models/north-american-regional\" target=\"blank\">North American Regional Reanalysis (NARR)</a></li>\n",
    "    <li>Which <a href=\"https://unidata.github.io/MetPy/latest/api/generated/metpy.constants.html\" target=\"blank\">constants</a> are available in MetPy?</li>\n",
    "    </ol>\n",
    "</div>"
   ]
  },
  {
   "cell_type": "code",
   "execution_count": null,
   "metadata": {},
   "outputs": [],
   "source": [
    "# COMMENT YOUR RESPONSES HERE"
   ]
  },
  {
   "cell_type": "markdown",
   "metadata": {},
   "source": [
    "<a name=\"import\"></a>\n",
    "### Step 0: Import required packages"
   ]
  },
  {
   "cell_type": "code",
   "execution_count": null,
   "metadata": {},
   "outputs": [],
   "source": [
    "from datetime import datetime\n",
    "\n",
    "import cartopy.crs as ccrs\n",
    "import cartopy.feature as cfeature\n",
    "import matplotlib.pyplot as plt\n",
    "import metpy.calc as mpcalc\n",
    "import metpy.constants as mpconstants\n",
    "import numpy as np\n",
    "from siphon.catalog import TDSCatalog\n",
    "from siphon.ncss import NCSS\n",
    "import xarray as xr\n",
    "\n",
    "from metpy.units import units"
   ]
  },
  {
   "cell_type": "markdown",
   "metadata": {},
   "source": [
    "<a name=\"narr\"></a>\n",
    "### Step 1: Access NARR Output\n",
    "NARR output is made available on a THREDDS Data Server (TDS) hosted by NCEI. \n",
    "\n",
    "https://www.ncdc.noaa.gov/data-access/model-data/model-datasets/north-american-regional-reanalysis-narr\n",
    "\n",
    "We can use an NCSS query to access the remote data for our chosen storm. If you choose to use the 1993 Storm of the Century, that date will be March 13, 1993 at 1200Z"
   ]
  },
  {
   "cell_type": "code",
   "execution_count": null,
   "metadata": {},
   "outputs": [],
   "source": [
    "# Case Study Date\n",
    "year = 1993\n",
    "month = 3\n",
    "day = 13\n",
    "hour = 12\n",
    "\n",
    "dt = datetime(year, month, day, hour)"
   ]
  },
  {
   "cell_type": "markdown",
   "metadata": {},
   "source": [
    "Next, we set up access to request subsets of data from the model. This uses the OPENDaP protocol to make requests from the GRIB collection and get results in netCDF format."
   ]
  },
  {
   "cell_type": "code",
   "execution_count": null,
   "metadata": {},
   "outputs": [],
   "source": [
    "# Read NARR Data from THREDDS server\n",
    "base_url = 'https://www.ncei.noaa.gov/thredds/catalog/model-narr-a-files/'\n",
    "\n",
    "# Programmatically generate the URL to the day of data we want\n",
    "cat = TDSCatalog(f'{base_url}{dt:%Y%m}/{dt:%Y%m%d}/catalog.xml')\n",
    "\n",
    "# Have Siphon find the appropriate dataset\n",
    "tds_ds = cat.datasets.filter_time_nearest(dt)\n",
    "\n",
    "# Interface with the data through the NetCDF Subset Service (NCSS) \n",
    "ncss = tds_ds.subset()"
   ]
  },
  {
   "cell_type": "markdown",
   "metadata": {},
   "source": [
    "NARR output contains [many variables](https://www.ncei.noaa.gov/thredds/ncss/model-narr-a-files/199303/19930313/narr-a_221_19930313_1200_000.grb/dataset.html). In fact, too many to search for all the variables we need for this analysis. Instead of printing `ncss.variables` and listing all 100+ variable names, we can ask Python to only display variables that end with \"isobaric\". This suffix is how the TDS denotes GRIB fields that are specified on isobaric levels."
   ]
  },
  {
   "cell_type": "code",
   "execution_count": null,
   "metadata": {},
   "outputs": [],
   "source": [
    "# Print the available variable names on isobaric surfaces\n",
    "sorted(v for v in ncss.variables if v.endswith('isobaric'))"
   ]
  },
  {
   "cell_type": "markdown",
   "metadata": {},
   "source": [
    "<div class=\"alert alert-success\">\n",
    "    <b>EXERCISE</b>: Complete the NCSS query\n",
    "    \n",
    "    \n",
    "Complete the NCSS query for the required geopotential height and temperature variables needed for our calculations.\n",
    "</div>"
   ]
  },
  {
   "cell_type": "code",
   "execution_count": null,
   "metadata": {},
   "outputs": [],
   "source": [
    "# Create an NCSS query with our desired specifications\n",
    "query = ncss.query()\n",
    "query.lonlat_box(north=60, south=18, east=300, west=225)\n",
    "query.time(dt)\n",
    "query.accept('netcdf')\n",
    "\n",
    "# TO DO: Select variables\n",
    "query.variables()\n",
    "\n",
    "# Use the query to obtain our NetCDF data\n",
    "data = ncss.get_data(query)"
   ]
  },
  {
   "cell_type": "markdown",
   "metadata": {},
   "source": [
    "Next, open the data with xarray and parse it with MetPy for CF conventions, also assigning lat/lon values"
   ]
  },
  {
   "cell_type": "code",
   "execution_count": null,
   "metadata": {},
   "outputs": [],
   "source": [
    "# Open data with xarray, and parse it with MetPy\n",
    "ds = xr.open_dataset(xr.backends.NetCDF4DataStore(data)).metpy.parse_cf()\n",
    "\n",
    "# Use MetPy to add latitude and longitude coordinates\n",
    "ds = ds.metpy.assign_latitude_longitude()"
   ]
  },
  {
   "cell_type": "markdown",
   "metadata": {},
   "source": [
    "<a name=\"prep\"></a>\n",
    "### Step 2: Prepare data\n",
    "Since we are calculating QG omega at **700 hPa**, subset just the geopotential height and temperature at the 700 hPa level into an xarray DataArray. We can easily do this using xarray's `.sel()` method. We can also leverage MetPy's units inside the selection to ensure we are selecting the correct level. "
   ]
  },
  {
   "cell_type": "code",
   "execution_count": null,
   "metadata": {},
   "outputs": [],
   "source": [
    "# This is the time we're using\n",
    "vtime = ds['Temperature_isobaric'].metpy.time[0]\n",
    "\n",
    "# Grabbing data for specific variable contained in file (as a unit array)\n",
    "# 700 hPa Geopotential Heights\n",
    "hght_700 = ds['Geopotential_height_isobaric'].metpy.sel(vertical = 700 * units.hPa, time=vtime)\n",
    "\n",
    "# 700 hPa Temperature\n",
    "tmpk_700 = ds['Temperature_isobaric'].metpy.sel(vertical = 700 * units.hPa, time=vtime)"
   ]
  },
  {
   "cell_type": "markdown",
   "metadata": {},
   "source": [
    "<div class=\"alert alert-success\">\n",
    "    <b>EXERCISE</b>: Calculate geopotential heights at 500 and 900 hPa\n",
    "    \n",
    "Since the QG Omega equation includes calculating a differential, we will also need the geopotential heights for levels above and below 700 hPa. In this exercise, create two more DataArrays of geopotential height at 500 and 900 hPa.\n",
    "    \n",
    "Calculate:\n",
    "     <ul>\n",
    "         <li>hght_500: 500-hPa Geopotential_height_isobaric</li>\n",
    "         <li>hght_900: 900-hPa Geopotential_height_isobaric</li>\n",
    "    </ul>\n",
    "</div>"
   ]
  },
  {
   "cell_type": "code",
   "execution_count": null,
   "metadata": {},
   "outputs": [],
   "source": [
    "# YOUR CODE GOES HERE"
   ]
  },
  {
   "cell_type": "markdown",
   "metadata": {},
   "source": [
    "Next we define the constants we need for the calculations."
   ]
  },
  {
   "cell_type": "code",
   "execution_count": null,
   "metadata": {},
   "outputs": [],
   "source": [
    "# Set constant values that will be needed in computations\n",
    "\n",
    "# Set default static stability value\n",
    "sigma = 2.0e-6 * units('m^2 Pa^-2 s^-2')\n",
    "\n",
    "# Set f-plane at typical synoptic f0 value\n",
    "f0 = 1e-4 * units('s^-1')\n",
    "\n",
    "# Use dry gas constant from MetPy constants\n",
    "Rd = mpconstants.Rd"
   ]
  },
  {
   "cell_type": "markdown",
   "metadata": {},
   "source": [
    "For calculation purposes we want to smooth our variables a little to get to the \"synoptic values\" from the higher resolution dataset we are using"
   ]
  },
  {
   "cell_type": "code",
   "execution_count": null,
   "metadata": {},
   "outputs": [],
   "source": [
    "# Smooth Heights\n",
    "\n",
    "# Number of repetitions of smoothing function\n",
    "n_reps = 50\n",
    "\n",
    "# Apply the 9-point smoother\n",
    "hght_700s = mpcalc.smooth_n_point(hght_700, 9, n_reps)\n",
    "hght_500s = mpcalc.smooth_n_point(hght_500, 9, n_reps)\n",
    "hght_900s = mpcalc.smooth_n_point(hght_900, 9, n_reps)\n",
    "\n",
    "tmpk_700s = mpcalc.smooth_n_point(tmpk_700, 9, n_reps)\n",
    "tmpc_700s = tmpk_700s.metpy.convert_units('degC')"
   ]
  },
  {
   "cell_type": "markdown",
   "metadata": {},
   "source": [
    "<div class=\"alert alert-success\">\n",
    "    <b>EXERCISE</b>: Calculate u and v geostrophic wind\n",
    "    \n",
    "We can calculate the u and v components of the geostrophic wind from geopotential heights using a MetPy function.\n",
    "    \n",
    "Task: <br>\n",
    "    Locate the appropriate geostrophic wind function in the <a href=\"https://unidata.github.io/MetPy/latest/api/generated/metpy.calc.html\" target=\"blank\">MetPy documentation</a> and calculate the following variables. \n",
    "    \n",
    "Variables:\n",
    "     <ul>\n",
    "         <li>ug_900s, vg_900s: 900-hPa Geostrophic Wind</li>\n",
    "         <li>ug_700s, vg_700s: 700-hPa Geostrophic Wind</li>\n",
    "         <li>ug_500s, vg_500s: 500-hPa Geostrophic Wind</li>\n",
    "    </ul>\n",
    "    \n",
    "Hint: <br>\n",
    "    Ignore any optional inputs in this calculation\n",
    "</div>"
   ]
  },
  {
   "cell_type": "code",
   "execution_count": null,
   "metadata": {},
   "outputs": [],
   "source": [
    "# YOUR CODE GOES HERE"
   ]
  },
  {
   "cell_type": "markdown",
   "metadata": {},
   "source": [
    "<a name=\"terma\"></a>\n",
    "### Step 3: Compute Term A - Differential Vorticity Advection\n",
    "\n",
    "$$-\\frac{f_o}{\\sigma}\\frac{\\partial}{\\partial p}\\left[-\\vec{V_g} \\cdot \\nabla_p \\left(\\zeta_g + f \\right)\\right]$$\n"
   ]
  },
  {
   "cell_type": "markdown",
   "metadata": {},
   "source": [
    "We will approach this calculation from the inside out in this order: \n",
    "1. absolute vorticity at two levels (e.g., 500 and 900 hPa) $$\\left(\\zeta_g + f \\right)$$\n",
    "2. absolute vorticity advection at same two levels $$\\left[-\\vec{V_g} \\cdot \\nabla_p \\left(\\zeta_g + f \\right)\\right]$$\n",
    "3. centered finite-difference between two levels (e.g., valid at 700 hPa )$$\\frac{\\partial}{\\partial p}\\left[-\\vec{V_g} \\cdot \\nabla_p \\left(\\zeta_g + f \\right)\\right]$$\n",
    "4. apply constants to calculate value of full term $$-\\frac{f_o}{\\sigma}\\frac{\\partial}{\\partial p}\\left[-\\vec{V_g} \\cdot \\nabla_p \\left(\\zeta_g + f \\right)\\right]$$"
   ]
  },
  {
   "cell_type": "markdown",
   "metadata": {},
   "source": [
    "**NOTE:** By definition, the advection term in MetPy is calculated as (using temperature advection as an example) is:\n",
    "\n",
    "$$-\\vec{V} \\cdot \\nabla_p T$$"
   ]
  },
  {
   "cell_type": "code",
   "execution_count": null,
   "metadata": {},
   "outputs": [],
   "source": [
    "# Absolute Vorticity Calculation\n",
    "avor_900 = mpcalc.absolute_vorticity(ug_900s, vg_900s)\n",
    "avor_500 = mpcalc.absolute_vorticity(ug_500s, vg_500s)\n",
    "\n",
    "# Absolute Vorticity Advection\n",
    "vortadv_900 = mpcalc.advection(avor_900, ug_900s, vg_900s)\n",
    "vortadv_500 = mpcalc.advection(avor_500, ug_500s, vg_500s)\n",
    "\n",
    "# Differential (centered finite-difference) Vorticity Advection between two levels\n",
    "diff_avor = ((vortadv_900 - vortadv_500)/(400 * units.hPa).to_base_units())\n",
    "\n",
    "# Apply constants to final differential vorticity advection term\n",
    "term_A = -(f0 / sigma.to_base_units() * diff_avor)\n",
    "\n",
    "# Examine the units of Term A\n",
    "term_A.metpy.units"
   ]
  },
  {
   "cell_type": "markdown",
   "metadata": {},
   "source": [
    "<a name=\"termb\"></a>\n",
    "### Step 4: Compute Term B - Laplacian of Temperature Advection\n",
    "\n",
    "$$-\\frac{R}{\\sigma p} \\nabla_p ^2 \\left[-\\vec{V_g} \\cdot \\nabla_p T \\right]$$"
   ]
  },
  {
   "cell_type": "markdown",
   "metadata": {},
   "source": [
    "<div class=\"alert alert-success\">\n",
    "    <b>EXERCISE</b>: Compute Term B\n",
    "\n",
    "Compute Term B using the same inside out method as previous\n",
    "    \n",
    "Tasks:\n",
    "    \n",
    " <ol>\n",
    "     <li>Temperature advection at 700 hPa (tadv_700) $$\\left[-\\vec{V_g} \\cdot \\nabla_p T \\right]$$</li> \n",
    "     <li>Laplacian of Temp Adv. at 700 hPa (lap_tadv_700) $$\\nabla_p ^2 \\left[-\\vec{V_g} \\cdot \\nabla_p T \\right]$$</li>\n",
    "     <li>Final term B with appropriate constants (term_B) $$-\\frac{R}{\\sigma p} \\nabla_p ^2 \\left[-\\vec{V_g} \\cdot \\nabla_p T \\right]$$</li>\n",
    "     <li>Compare the output units of Term B with that of Term A</li>\n",
    "</ol>\n",
    "    \n",
    "For information on how to calculate a Laplacian using MetPy, see the <a href=\"https://unidata.github.io/MetPy/latest/api/generated/metpy.calc.laplacian.html\">documentation</a> on this function.\n",
    "</div>"
   ]
  },
  {
   "cell_type": "code",
   "execution_count": null,
   "metadata": {
    "scrolled": true,
    "tags": []
   },
   "outputs": [],
   "source": [
    "# YOUR CODE GOES HERE"
   ]
  },
  {
   "cell_type": "markdown",
   "metadata": {},
   "source": [
    "<a name=\"4panel\"></a>\n",
    "### Step 5: Plot\n",
    "\n",
    "Upper-left Panel: 700-hPa Geopotential Heights, Temperature, and Winds\n",
    "\n",
    "Upper-right Panel: 500-hPa Geopotential Heights, Absolute Vorticity, and Winds\n",
    "\n",
    "Lower-left Panel: Term B (Laplacian of Temperature Advection)\n",
    "\n",
    "Lower-right Panel: Term A (Laplacian of differential Vorticity Advection)"
   ]
  },
  {
   "cell_type": "code",
   "execution_count": null,
   "metadata": {},
   "outputs": [],
   "source": [
    "# Set some contour intervals for various parameters\n",
    "\n",
    "# CINT 500 hPa Heights\n",
    "clev_hght_500 = np.arange(0, 7000, 60)\n",
    "# CINT 700 hPa Heights\n",
    "clev_hght_700 = np.arange(0, 7000, 30)\n",
    "# CINT 700 hPa Temps\n",
    "clev_tmpc_700 = np.arange(-40, 41, 5)\n",
    "# CINT Omega terms\n",
    "clev_omega = np.arange(-5, 5.1, .5)"
   ]
  },
  {
   "cell_type": "code",
   "execution_count": null,
   "metadata": {},
   "outputs": [],
   "source": [
    "# Set some projections for our data (from NARR data)\n",
    "# and output maps (Lambert Conformal)\n",
    "\n",
    "# Data projection; NARR Data\n",
    "dataproj = ds.Geopotential_height_isobaric.metpy.cartopy_crs\n",
    "\n",
    "# Plot projection\n",
    "# The look you want for the view, LambertConformal for mid-latitude view\n",
    "plotproj = ccrs.LambertConformal(central_longitude=-100.,\n",
    "                                 central_latitude=40.,\n",
    "                                 standard_parallels=[30, 60])\n",
    "\n",
    "# Set plotting variables\n",
    "x = ds.x\n",
    "y = ds.y\n",
    "xx, yy = np.meshgrid(x, y)"
   ]
  },
  {
   "cell_type": "markdown",
   "metadata": {},
   "source": [
    "#### Start 4-panel Figure"
   ]
  },
  {
   "cell_type": "code",
   "execution_count": null,
   "metadata": {},
   "outputs": [],
   "source": [
    "# Set a skip variable to limit number of barbs plotted\n",
    "barb_skip = (slice(None, None, 8), slice(None, None, 8))\n",
    "\n",
    "# Format the valid time\n",
    "vtime_str = str(vtime.dt.strftime('%Y-%m-%d %H%MZ').values)\n",
    "\n",
    "# Set figure size\n",
    "fig=plt.figure(1, figsize=(24.5,17.))\n",
    "\n",
    "################################################################################\n",
    "# Upper-Left Panel\n",
    "ax=plt.subplot(221, projection=plotproj)\n",
    "ax.set_extent([-125., -73, 25., 50.],ccrs.PlateCarree())\n",
    "ax.add_feature(cfeature.COASTLINE, linewidth=0.5)\n",
    "ax.add_feature(cfeature.STATES, linewidth=0.5)\n",
    "\n",
    "# Contour #1\n",
    "clev500 = np.arange(0,7000,60)\n",
    "cs = ax.contour(x, y, hght_500, clev500, colors='k',\n",
    "                linewidths=1.5, linestyles='solid', transform=dataproj)\n",
    "plt.clabel(cs, fontsize=10, inline=1, inline_spacing=3, fmt='%i',\n",
    "           rightside_up=True, use_clabeltext=True)\n",
    "\n",
    "# Contour #2\n",
    "cs2 = ax.contour(x, y, avor_500*10**5, np.arange(-40, 41, 3),colors='grey',\n",
    "                linewidths=1.0, linestyles='dotted', transform=dataproj)\n",
    "plt.clabel(cs2, fontsize=10, inline=1, inline_spacing=3, fmt='%d',\n",
    "           rightside_up=True, use_clabeltext=True)\n",
    "\n",
    "# Colorfill\n",
    "cf = ax.contourf(x, y, vortadv_500*10**8, np.arange(-3, 3.1, 0.2),\n",
    "                 cmap=plt.cm.PuOr_r, extend='both', transform=dataproj)\n",
    "plt.colorbar(cf, orientation='horizontal', pad=0.0, aspect=50, extendrect=True)\n",
    "\n",
    "# Vector\n",
    "ax.barbs(xx[barb_skip], yy[barb_skip],\n",
    "         ug_500s.metpy.convert_units('kt').values[barb_skip],\n",
    "         vg_500s.metpy.convert_units('kt').values[barb_skip],\n",
    "         transform=dataproj)\n",
    "\n",
    "# Titles\n",
    "plt.title('500-hPa Geopotential Heights (m), Winds (kt), and\\n'\n",
    "          'Absolute Vorticity Advection ($*10^{8}$ 1/s^2)',loc='left')\n",
    "plt.title(f'VALID: {vtime_str}', loc='right')\n",
    "################################################################################\n",
    "\n",
    "################################################################################\n",
    "# Upper-Right Panel\n",
    "ax=plt.subplot(222, projection=plotproj)\n",
    "ax.set_extent([-125., -73, 25., 50.],ccrs.PlateCarree())\n",
    "ax.add_feature(cfeature.COASTLINE, linewidth=0.5)\n",
    "ax.add_feature(cfeature.STATES, linewidth=0.5)\n",
    "\n",
    "# Contour #1\n",
    "cs = ax.contour(x, y, hght_500s, clev500, colors='k',\n",
    "                linewidths=1.5, linestyles='solid', transform=dataproj)\n",
    "plt.clabel(cs, fontsize=10, inline=1, inline_spacing=3, fmt='%i',\n",
    "           rightside_up=True, use_clabeltext=True)\n",
    "\n",
    "# Contour #2\n",
    "cs2 = ax.contour(x, y, avor_500*10**5, np.arange(-40, 41, 3), colors='grey',\n",
    "                linewidths=1.0, linestyles='dotted', transform=dataproj)\n",
    "plt.clabel(cs2, fontsize=10, inline=1, inline_spacing=3, fmt='%d',\n",
    "           rightside_up=True, use_clabeltext=True)\n",
    "\n",
    "# Colorfill\n",
    "cf = ax.contourf(x, y, term_A*10**11, clev_omega,\n",
    "                 cmap=plt.cm.RdYlBu_r, extend='both', transform=dataproj)\n",
    "plt.colorbar(cf, orientation='horizontal', pad=0.0, aspect=50, extendrect=True)\n",
    "\n",
    "# Vector\n",
    "ax.barbs(xx[barb_skip], yy[barb_skip],\n",
    "         ug_500s.metpy.convert_units('kt').values[barb_skip],\n",
    "         vg_500s.metpy.convert_units('kt').values[barb_skip],\n",
    "         transform=dataproj)\n",
    "\n",
    "# Titles\n",
    "plt.title('500-hPa Geopotential Heights (m), Winds (kt), and\\n'\n",
    "          'Forcing Term A QG Omega ($*10^{11}$ kg m$^{-3}$ s$^{-3}$)',loc='left')\n",
    "plt.title(f'VALID: {vtime_str}', loc='right')\n",
    "################################################################################\n",
    "\n",
    "################################################################################\n",
    "# Lower-Left Panel\n",
    "ax=plt.subplot(223, projection=plotproj)\n",
    "ax.set_extent([-125., -73, 25., 50.], ccrs.PlateCarree())\n",
    "ax.add_feature(cfeature.COASTLINE, linewidth=0.5)\n",
    "ax.add_feature(cfeature.STATES, linewidth=0.5)\n",
    "\n",
    "# Contour #1\n",
    "cs = ax.contour(x, y, hght_700s, clev_hght_700, colors='k',\n",
    "                linewidths=1.5, linestyles='solid', transform=dataproj)\n",
    "plt.clabel(cs, fontsize=10, inline=1, inline_spacing=3, fmt='%i',\n",
    "           rightside_up=True, use_clabeltext=True)\n",
    "\n",
    "# Contour #2\n",
    "cs2 = ax.contour(x, y, tmpc_700s, clev_tmpc_700, colors='grey',\n",
    "                linewidths=1.0, linestyles='dotted', transform=dataproj)\n",
    "plt.clabel(cs2, fontsize=10, inline=1, inline_spacing=3, fmt='%d',\n",
    "           rightside_up=True, use_clabeltext=True)\n",
    "\n",
    "# Colorfill\n",
    "cf = ax.contourf(x, y, tadv_700*10**4, np.arange(-10, 10.1, 0.5),\n",
    "                 cmap=plt.cm.bwr, extend='both', transform=dataproj)\n",
    "plt.colorbar(cf, orientation='horizontal', pad=0.0, aspect=50, extendrect=True)\n",
    "\n",
    "# Vector\n",
    "ax.barbs(xx[barb_skip], yy[barb_skip],\n",
    "         ug_700s.metpy.convert_units('kt').values[barb_skip],\n",
    "         vg_700s.metpy.convert_units('kt').values[barb_skip],\n",
    "         transform=dataproj)\n",
    "\n",
    "# Titles\n",
    "plt.title('700-hPa Geopotential Heights (m), Temperature (C),\\n'\n",
    "          'Winds (kts), and Temp Adv. ($*10^4$ C/s)',loc='left')\n",
    "plt.title(f'VALID: {vtime_str}', loc='right')\n",
    "################################################################################\n",
    "\n",
    "################################################################################\n",
    "# Lower-Right Panel\n",
    "ax=plt.subplot(224, projection=plotproj)\n",
    "ax.set_extent([-125., -73, 25., 50.],ccrs.PlateCarree())\n",
    "ax.add_feature(cfeature.COASTLINE, linewidth=0.5)\n",
    "ax.add_feature(cfeature.STATES, linewidth=0.5)\n",
    "\n",
    "# Contour #1\n",
    "cs = ax.contour(x, y, hght_700s, clev_hght_700, colors='k',\n",
    "                linewidths=1.5, linestyles='solid', transform=dataproj)\n",
    "plt.clabel(cs, fontsize=10, inline=1, inline_spacing=3, fmt='%i',\n",
    "           rightside_up=True, use_clabeltext=True)\n",
    "\n",
    "# Contour #2\n",
    "cs2 = ax.contour(x, y, tmpc_700s, clev_tmpc_700, colors='grey',\n",
    "                linewidths=1.0, transform=dataproj)\n",
    "plt.clabel(cs2, fontsize=10, inline=1, inline_spacing=3, fmt='%d',\n",
    "           rightside_up=True, use_clabeltext=True)\n",
    "\n",
    "# Colorfill\n",
    "cf = ax.contourf(x, y, term_B*10**11, clev_omega,\n",
    "                 cmap=plt.cm.RdYlBu_r, extend='both', transform=dataproj)\n",
    "plt.colorbar(cf, orientation='horizontal', pad=0.0, aspect=50, extendrect=True)\n",
    "\n",
    "# Vector\n",
    "ax.barbs(xx[barb_skip], yy[barb_skip],\n",
    "         ug_700s.metpy.convert_units('kt').values[barb_skip],\n",
    "         vg_700s.metpy.convert_units('kt').values[barb_skip],\n",
    "         transform=dataproj)\n",
    "\n",
    "# Titles\n",
    "plt.title('700-hPa Geopotential Heights (m), Winds (kt), and\\n'\n",
    "          'Forcing Term B QG Omega ($*10^{11}$ kg m$^{-3}$ s$^{-3}$)',loc='left')\n",
    "plt.title(f'VALID: {vtime_str}', loc='right')\n",
    "################################################################################\n",
    "\n",
    "plt.show()"
   ]
  },
  {
   "cell_type": "markdown",
   "metadata": {},
   "source": [
    "<div class=\"alert alert-success\">\n",
    "    <b>[OPTIONAL] EXERCISE</b>:\n",
    "     <ul>\n",
    "         <li>Plot the combined QG Omega forcing terms (term_A + term_B) in a single panel.</li>\n",
    "         <li><b>BONUS:</b> Compute a difference map of Term A and Term B and plot.</li>\n",
    "    </ul>\n",
    "</div>"
   ]
  }
 ],
 "metadata": {
  "kernelspec": {
   "display_name": "Python [conda env:pyaos-ams-2022]",
   "language": "python",
   "name": "conda-env-pyaos-ams-2022-py"
  },
  "language_info": {
   "codemirror_mode": {
    "name": "ipython",
    "version": 3
   },
   "file_extension": ".py",
   "mimetype": "text/x-python",
   "name": "python",
   "nbconvert_exporter": "python",
   "pygments_lexer": "ipython3",
   "version": "3.10.2"
  }
 },
 "nbformat": 4,
 "nbformat_minor": 4
}
