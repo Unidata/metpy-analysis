{
 "cells": [
  {
   "cell_type": "markdown",
   "metadata": {},
   "source": [
    "<a name=\"top\"></a>\n",
    "<div style=\"width:1000 px\">\n",
    "\n",
    "<div style=\"float:right; width:98 px; height:98px;\">\n",
    "<img src=\"https://raw.githubusercontent.com/Unidata/MetPy/master/src/metpy/plots/_static/unidata_150x150.png\" alt=\"Unidata Logo\" style=\"height: 98px;\">\n",
    "</div>\n",
    "\n",
    "<h1>Advanced MetPy: Isentropic Analysis</h1>\n",
    "    <h3>AMS 2022 Short Course: MetPy for Quantitative Analysis of Meteorological Data</h3>\n",
    "\n",
    "<div style=\"clear:both\"></div>\n",
    "</div>\n",
    "\n",
    "<hr style=\"height:2px;\">\n",
    "\n",
    "### Tasks\n",
    "1. <a href=\"#download\">Access GFS output from a THREDDS Data Server (TDS)</a>\n",
    "1. <a href=\"#interpolation\">Isentropic interpolation</a>\n",
    "1. <a href=\"#ascent\">Calculate isentropic ascent ($\\omega$)</a>\n",
    "1. <a href=\"#mixingratio\">Calculate mixing ratio</a>\n",
    "\n",
    "\n",
    "### Background\n",
    "Up until this point, we have been examining data on constant pressure (isobaric) surfaces, which aligns with how meteorological data are typically written and served. However, we know there are several benefits for examining data on constant potential temperature (isentropic) surfaces including diagnosing vertical motion through advection of pressure, locating airmass boundaries in a conveyor belts framework, depicting the dynamic tropopause and tropopause folds, among <a href=\"https://www.meted.ucar.edu/labs/synoptic/isentropic_analysis/print.php\" target=\"blank\">others</a>. \n",
    "\n",
    "<center><img src=\"https://elearning.unidata.ucar.edu/metpy/AMS2022/thetaxsect2.png\" width=\"800px\"/><br>\n",
    "<i>Vertical cross-section of potential temperature</i><br>\n",
    "<i>An isentropic chart uses an isentrope as its base level</i></center><br>\n",
    "\n",
    "\n",
    "In this lesson, we will demonstrate how to use built-in MetPy functions to easily interpolate variables on isobaric surfaces to isentropic surfaces. "
   ]
  },
  {
   "cell_type": "markdown",
   "metadata": {},
   "source": [
    "<a name=\"download\"></a>\n",
    "## Step 1: Access GFS Output\n",
    "We will perform the isentropic interpolation in this lesson on the latest run of the GFS available on [Unidata's THREDDS data server](https://thredds.ucar.edu/). First, we access the catalog for the half-degree GFS output, and look for the dataset called the \"[Best GFS Half Degree Forecast Time Series](https://thredds.ucar.edu/thredds/catalog/grib/NCEP/GFS/Global_0p5deg/catalog.html?dataset=grib/NCEP/GFS/Global_0p5deg/Best)\". This dataset combines multiple sets of model runs to yield a time series of output with the shortest forecast offset."
   ]
  },
  {
   "cell_type": "code",
   "execution_count": null,
   "metadata": {
    "pycharm": {
     "is_executing": false
    }
   },
   "outputs": [],
   "source": [
    "from siphon.catalog import TDSCatalog\n",
    "\n",
    "cat = TDSCatalog('http://thredds.ucar.edu/thredds/catalog/grib/'\n",
    "                 'NCEP/GFS/Global_0p5deg/catalog.xml')\n",
    "best = cat.datasets['Best GFS Half Degree Forecast Time Series']"
   ]
  },
  {
   "cell_type": "markdown",
   "metadata": {},
   "source": [
    "Next, we use the [NetCDF Subset Service (NCSS)](https://www.unidata.ucar.edu/software/tds/current/reference/NetcdfSubsetServiceReference.html) to make requests from the GRIB collection and get results in netCDF format."
   ]
  },
  {
   "cell_type": "code",
   "execution_count": null,
   "metadata": {
    "pycharm": {
     "is_executing": false
    }
   },
   "outputs": [],
   "source": [
    "subset_access = best.subset()\n",
    "query = subset_access.query()"
   ]
  },
  {
   "cell_type": "markdown",
   "metadata": {},
   "source": [
    "GFS output contains [many variables](https://thredds.ucar.edu/thredds/ncss/grib/NCEP/GFS/Global_0p25deg/Best/dataset.html). In fact, too many to search for all the variables we need for this interpolation. Instead of printing `subset_access.variables` and listing all 150+ variable names, we can ask Python to only display variables that end with \"isobaric\". This suffix is how the TDS denotes GRIB fields that are specified on isobaric levels."
   ]
  },
  {
   "cell_type": "code",
   "execution_count": null,
   "metadata": {
    "pycharm": {
     "is_executing": false
    }
   },
   "outputs": [],
   "source": [
    "sorted(v for v in subset_access.variables if v.endswith('isobaric'))"
   ]
  },
  {
   "cell_type": "markdown",
   "metadata": {},
   "source": [
    "#### Query the TDS\n",
    "\n",
    "Now we put together the query to send to the TDS. Recall that we can query for a bounding box and time in addition to the variables we need. \n",
    "\n",
    "In this example, we'll query for data across the contenental US and for the time step closest to now. We also request **temperature**, **height**, **winds**, and **relative humidity**. By asking for netCDF4 data, the result is compressed, so the download is smaller."
   ]
  },
  {
   "cell_type": "code",
   "execution_count": null,
   "metadata": {
    "pycharm": {
     "is_executing": false
    }
   },
   "outputs": [],
   "source": [
    "from datetime import datetime\n",
    "dt = datetime.utcnow()\n",
    "query.time(dt)\n",
    "query.variables('Temperature_isobaric', 'Geopotential_height_isobaric',\n",
    "                'u-component_of_wind_isobaric', 'v-component_of_wind_isobaric',\n",
    "                'Relative_humidity_isobaric')\n",
    "query.lonlat_box(west=-130, east=-50, south=10, north=60)\n",
    "query.accept('netcdf4')"
   ]
  },
  {
   "cell_type": "markdown",
   "metadata": {},
   "source": [
    "Now all that's left is to actually make the request for data."
   ]
  },
  {
   "cell_type": "code",
   "execution_count": null,
   "metadata": {
    "pycharm": {
     "is_executing": false
    }
   },
   "outputs": [],
   "source": [
    "nc = subset_access.get_data(query)"
   ]
  },
  {
   "cell_type": "markdown",
   "metadata": {},
   "source": [
    "#### Open and examine data\n",
    "\n",
    "Now we can open and review the returned netCDF data using XArray. Notice the dimensions each of the variables have. "
   ]
  },
  {
   "cell_type": "code",
   "execution_count": null,
   "metadata": {
    "pycharm": {
     "is_executing": false
    }
   },
   "outputs": [],
   "source": [
    "from xarray.backends import NetCDF4DataStore\n",
    "import xarray as xr\n",
    "ds = xr.open_dataset(NetCDF4DataStore(nc))\n",
    "ds"
   ]
  },
  {
   "cell_type": "markdown",
   "metadata": {},
   "source": [
    "Since we are working with only one time, we can use `squeeze()` to remove time as a dimension from the dataset. In the same step, we can also parse out the metadata for the isobaric temperature and get the projection information with `parse_cf()`."
   ]
  },
  {
   "cell_type": "code",
   "execution_count": null,
   "metadata": {},
   "outputs": [],
   "source": [
    "import metpy\n",
    "ds = ds.metpy.parse_cf().squeeze()\n",
    "ds"
   ]
  },
  {
   "cell_type": "markdown",
   "metadata": {},
   "source": [
    "<a name=\"interpolation\"></a>\n",
    "## Step 2: Isentropic Interpolation\n",
    "\n",
    "We can now use MetPy to interpolate the data we've just accessed to an isentropic surface and visualize it on a map. To transform our variables from the pressure vertical coordinate to a constant potential temperature (isentropic) vertical coordinate, we can use the <a href=\"https://unidata.github.io/MetPy/latest/api/generated/metpy.calc.isentropic_interpolation.html\" target=\"blank\">`isentropic_interpolation`</a> function. Since we have several variables to interpolate, we can also use the <a href=\"https://unidata.github.io/MetPy/latest/api/generated/metpy.calc.isentropic_interpolation_as_dataset.html\" target=\"blank\">`isentropic_interpolation_as_dataset`</a> function to organize all outputs into an xarray Dataset. \n",
    "\n",
    "First, we import the required packages for this analysis."
   ]
  },
  {
   "cell_type": "code",
   "execution_count": null,
   "metadata": {
    "pycharm": {
     "is_executing": false
    }
   },
   "outputs": [],
   "source": [
    "import metpy.calc as mpcalc\n",
    "from metpy.units import units\n",
    "import numpy as np"
   ]
  },
  {
   "cell_type": "markdown",
   "metadata": {},
   "source": [
    "Next, we perform the isentropic interpolation. For this, we will use [`isentropic_interpolation_as_dataset`](https://unidata.github.io/MetPy/latest/api/generated/metpy.calc.isentropic_interpolation_as_dataset.html). At a minimum, this must be given one or more isentropic levels and the 3-D temperature field. It then returns the 3D array of pressure values (2D slices for each isentropic level). This relies on getting the pressure values from the passed in temperature. \n",
    "\n",
    "There is also a version of this function, [`isentropic_interpolation`](https://unidata.github.io/MetPy/latest/api/generated/metpy.calc.isentropic_interpolation.html), that returns individual arrays rather than an xarray dataset.\n",
    "\n",
    "You can also pass additional fields which will be interpolated to these levels as well. Below, we interpolate the winds (and pressure) to the 320 K isentropic level:"
   ]
  },
  {
   "cell_type": "code",
   "execution_count": null,
   "metadata": {
    "pycharm": {
     "is_executing": false
    }
   },
   "outputs": [],
   "source": [
    "isen_level = np.array([320]) * units.kelvin\n",
    "isen_ds = mpcalc.isentropic_interpolation_as_dataset(isen_level, ds.Temperature_isobaric,\n",
    "                                                     ds['u-component_of_wind_isobaric'],\n",
    "                                                     ds['v-component_of_wind_isobaric'])\n",
    "\n",
    "# Squeeze the single isentropic level to return a 2D array for plotting\n",
    "isen_ds = isen_ds.metpy.parse_cf().squeeze()\n",
    "isen_ds"
   ]
  },
  {
   "cell_type": "markdown",
   "metadata": {},
   "source": [
    "#### Plot results\n",
    "\n",
    "Let's now preview our data on the 320 K isentropic surface. "
   ]
  },
  {
   "cell_type": "code",
   "execution_count": null,
   "metadata": {},
   "outputs": [],
   "source": [
    "# Pull out pressure and wind (u and v) arrays from the dataset\n",
    "isen_press = isen_ds.pressure\n",
    "isen_u = isen_ds['u-component_of_wind_isobaric']\n",
    "isen_v = isen_ds['v-component_of_wind_isobaric']\n",
    "\n",
    "# Pull the projection for the plot\n",
    "data_proj = isen_press.metpy.cartopy_crs\n",
    "\n",
    "# Add lat/lon to pressure array\n",
    "lon = isen_press.metpy.longitude\n",
    "lat = isen_press.metpy.latitude\n",
    "\n",
    "isen_press"
   ]
  },
  {
   "cell_type": "code",
   "execution_count": null,
   "metadata": {
    "pycharm": {
     "is_executing": false
    }
   },
   "outputs": [],
   "source": [
    "import matplotlib.pyplot as plt\n",
    "import cartopy.crs as ccrs\n",
    "import cartopy.feature as cfeature\n",
    "\n",
    "# Create a plot and basic map projection\n",
    "fig = plt.figure(figsize=(14, 8))\n",
    "ax = fig.add_subplot(1, 1, 1, projection=ccrs.LambertConformal(central_longitude=-100))\n",
    "\n",
    "# Contour the pressure values for the isentropic level. We keep the handle\n",
    "# for the contour so that we can have matplotlib label the contours\n",
    "levels = np.arange(300, 1000, 25)\n",
    "cntr = ax.contour(lon, lat, isen_press, transform=data_proj,\n",
    "                  colors='black', levels=levels)\n",
    "cntr.clabel(fmt='%d')\n",
    "\n",
    "# Set up slices to subset the wind barbs--the slices below are the same as `::7` and `::5`\n",
    "# We put these here so that it's easy to change and keep all of the ones below matched\n",
    "# up.\n",
    "lon_slice = slice(None, None, 7)\n",
    "lat_slice = slice(None, None, 5)\n",
    "ax.barbs(lon[lon_slice], lat[lat_slice],\n",
    "         isen_u[lat_slice, lon_slice].metpy.convert_units('knots').to_numpy(),\n",
    "         isen_v[lat_slice, lon_slice].metpy.convert_units('knots').to_numpy(),\n",
    "         transform=data_proj, zorder=2)\n",
    "\n",
    "ax.add_feature(cfeature.LAND)\n",
    "ax.add_feature(cfeature.OCEAN)\n",
    "ax.add_feature(cfeature.COASTLINE)\n",
    "ax.add_feature(cfeature.BORDERS, linewidth=2)\n",
    "ax.add_feature(cfeature.STATES, linestyle=':')\n",
    "\n",
    "ax.set_extent((-120, -70, 25, 55), crs=data_proj)"
   ]
  },
  {
   "cell_type": "markdown",
   "metadata": {},
   "source": [
    "<a name=\"ascent\"></a>\n",
    "## Step 3: Calculate Isentropic Ascent ($\\omega$)\n",
    "\n",
    "Air flow across isobars on an isentropic surface represents vertical motion. Isentropic ascent. $\\omega$ is represented by:\n",
    "\n",
    "$$\\omega = \\left(\\frac{\\partial P}{\\partial t}\\right)_\\theta + \\vec{V} \\cdot \\nabla_\\theta P + \\frac{\\partial P}{\\partial \\theta}\\frac{d\\theta}{dt}$$\n",
    "\n",
    "However, in practice we often represent $\\omega$ just by the second term, the negated advection of Pressure across isentropic surfaces. We use the frozen wave approximation to remove the first term on the right hand side, and we assume that the phase speed of the system is much smaller than windspeed on the isentropic surface to eliminate the third term on the right hand side. In this example, we will calculate $\\omega$ as just the second term, rewritten as:\n",
    "\n",
    "$$-(-\\vec{V} \\cdot \\nabla_\\theta P)$$\n",
    "\n",
    "Since calculating this involves taking derivatives, first let's smooth the input fields using a gaussian_filter."
   ]
  },
  {
   "cell_type": "code",
   "execution_count": null,
   "metadata": {},
   "outputs": [],
   "source": [
    "isen_press = mpcalc.smooth_gaussian(isen_press, 9)\n",
    "isen_u = mpcalc.smooth_gaussian(isen_u, 9)\n",
    "isen_v = mpcalc.smooth_gaussian(isen_v, 9)"
   ]
  },
  {
   "cell_type": "markdown",
   "metadata": {},
   "source": [
    "<div class=\"alert alert-success\">\n",
    "    <b>EXERCISE</b>: Calculate $\\omega$\n",
    "\n",
    "With the above arrays and assumptions previously made:\n",
    "<ol>\n",
    "    <li>Calculate $\\omega$ as a variable called <code>lift</code></li>\n",
    "    <li>Check the units of the output array to ensure that the result is a velocity</li>\n",
    "</ol>\n",
    "   \n",
    "</div>"
   ]
  },
  {
   "cell_type": "code",
   "execution_count": null,
   "metadata": {},
   "outputs": [],
   "source": [
    "# YOUR CODE HERE"
   ]
  },
  {
   "cell_type": "markdown",
   "metadata": {},
   "source": [
    "### Plot\n",
    "\n",
    "With the `lift` variable calculated, plot it on an isentropic surface along with winds and pressure contours"
   ]
  },
  {
   "cell_type": "code",
   "execution_count": null,
   "metadata": {},
   "outputs": [],
   "source": [
    "fig = plt.figure(figsize=(14, 8))\n",
    "ax = fig.add_subplot(1, 1, 1, projection=ccrs.LambertConformal(central_longitude=-100))\n",
    "ax.add_feature(cfeature.COASTLINE)\n",
    "\n",
    "levels = np.arange(300, 1000, 25)\n",
    "cntr = ax.contour(lon, lat, isen_press, transform=data_proj, colors='black', levels=levels)\n",
    "cntr.clabel(fmt='%d')\n",
    "\n",
    "\n",
    "lon_slice = slice(None, None, 5)\n",
    "lat_slice = slice(None, None, 5)\n",
    "ax.barbs(lon[lon_slice], lat[lat_slice],\n",
    "         isen_u[lon_slice, lat_slice].metpy.convert_units('knots').to_numpy(),\n",
    "         isen_v[lon_slice, lat_slice].metpy.convert_units('knots').to_numpy(),\n",
    "         transform=data_proj, zorder=2)\n",
    "\n",
    "\n",
    "levels = np.arange(-8, 9)\n",
    "# Convert the units to microbar/s to better visualize on the plot\n",
    "cs = ax.contourf(lon, lat, lift.metpy.convert_units('microbar/s').to_numpy(), levels=levels, cmap='RdBu',\n",
    "                 transform=data_proj, extend='both')\n",
    "plt.colorbar(cs)\n",
    "\n",
    "\n",
    "ax.set_extent((-120, -70, 25, 55), crs=data_proj)"
   ]
  },
  {
   "cell_type": "markdown",
   "metadata": {},
   "source": [
    "<a name=\"mixingratio\"></a>\n",
    "## Step 4: Calculate mixing ratio\n",
    "\n",
    "Isentropic charts are often used for visualizing moisture transport, such as in warm conveyor belt systems. We can check for the presence of moisture transport by adding mixing ratio to our isentropic charts. "
   ]
  },
  {
   "cell_type": "markdown",
   "metadata": {},
   "source": [
    "<div class=\"alert alert-success\">\n",
    "    <b>EXERCISE</b>: Calculate mixing ratio\n",
    "    \n",
    "In this exercise you will calculate mixing ratio and visualize it on a plot similar to the ones above. \n",
    "    \n",
    "This process includes several tasks:\n",
    "    \n",
    " <ol>\n",
    "     <li>Calculate the mixing ratio using an appropriate function from mpcalc. See: <a href=\"https://unidata.github.io/MetPy/latest/api/index.html\" target=\"blank\">MetPy Documentation</a></li>\n",
    "     <li>Interpolate mixing ratio to an isentropic surface using the same method as previous. You may continue to use the 320 K level or another level of your choice.</li>\n",
    "     <li>Use contour() or contourf() as used in previous examples to display mixing ratio alongside winds and pressure on a map.</li>\n",
    "</ol>\n",
    "    \n",
    "Hints:\n",
    "    \n",
    "<ul>\n",
    "    <li>Recall the variables we pulled from the TDS in the <code>ds</code> DataSet previously.</li>\n",
    "    <li>Calculate mixing ratio with isobaric levels first, then interpolate to an isentropic level as in the <a href=\"#interpolation\">Isentropic Interpolation</a> section above. </li>\n",
    "    <li>If you need a pressure array, pull the vertical coordinate from one of the isobaric variables in the <code>ds</code> DataSet, <br>e.g. <code>pressure = ds.Temperature_isobaric.metpy.vertical</code></li>\n",
    "    <li>If using <code>isentropic_interpolation_as_dataset</code> for the mixing ratio interpolation, be sure to add a <code>name</code> property to the DataArray first<br>e.g. <code>mixing.name = 'mixing_ratio'</code>\n",
    "    <li>Remember to <code>squeeze</code> any arrays to plot to just two dimensions.</li>\n",
    "    <li>If your final plot does not include much area of >1 mixing ratio, try interpolating to another isentropic level.</li>\n",
    "    </ul>\n",
    "</div>"
   ]
  },
  {
   "cell_type": "code",
   "execution_count": null,
   "metadata": {},
   "outputs": [],
   "source": [
    "# YOUR CODE HERE (Calculations)"
   ]
  },
  {
   "cell_type": "code",
   "execution_count": null,
   "metadata": {},
   "outputs": [],
   "source": [
    "# YOUR CODE HERE (Plotting)\n",
    "# Previous plotting code is copied here for you to start\n",
    "\n",
    "# Create figure\n",
    "fig = plt.figure(figsize=(14, 8))\n",
    "ax = fig.add_subplot(1, 1, 1, projection=ccrs.LambertConformal(central_longitude=-100))\n",
    "\n",
    "# Pressure contours\n",
    "levels = np.arange(200, 1000, 25)\n",
    "cntr = ax.contour(lon, lat, isen_press, transform=data_proj,\n",
    "                  colors='black', levels=levels)\n",
    "cntr.clabel(fmt='%d')\n",
    "\n",
    "# Wind barbs\n",
    "lon_slice = slice(None, None, 8)\n",
    "lat_slice = slice(None, None, 8)\n",
    "ax.barbs(lon[lon_slice], lat[lat_slice],\n",
    "         isen_u[lat_slice, lon_slice].metpy.convert_units('knots').to_numpy(),\n",
    "         isen_v[lat_slice, lon_slice].metpy.convert_units('knots').to_numpy(),\n",
    "         transform=data_proj, zorder=2)\n",
    "\n",
    "\n",
    "\n",
    "# Mixing ratio\n",
    "# \n",
    "# YOUR CODE: Contour/Contourf the mixing ratio values\n",
    "# \n",
    "# \n",
    "\n",
    "\n",
    "# Geographic context\n",
    "ax.add_feature(cfeature.LAND)\n",
    "ax.add_feature(cfeature.OCEAN)\n",
    "ax.add_feature(cfeature.COASTLINE)\n",
    "ax.add_feature(cfeature.BORDERS, linewidth=2)\n",
    "ax.add_feature(cfeature.STATES, linestyle=':')\n",
    "\n",
    "# Set axes extent\n",
    "ax.set_extent((-120, -70, 25, 55), crs=data_proj)"
   ]
  }
 ],
 "metadata": {
  "kernelspec": {
   "display_name": "Python [conda env:pyaos-ams-2022]",
   "language": "python",
   "name": "conda-env-pyaos-ams-2022-py"
  },
  "language_info": {
   "codemirror_mode": {
    "name": "ipython",
    "version": 3
   },
   "file_extension": ".py",
   "mimetype": "text/x-python",
   "name": "python",
   "nbconvert_exporter": "python",
   "pygments_lexer": "ipython3",
   "version": "3.10.2"
  },
  "pycharm": {
   "stem_cell": {
    "cell_type": "raw",
    "metadata": {
     "collapsed": false
    },
    "source": []
   }
  }
 },
 "nbformat": 4,
 "nbformat_minor": 4
}
