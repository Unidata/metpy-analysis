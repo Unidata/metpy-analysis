{
 "cells": [
  {
   "attachments": {
    "b211f231-f371-4845-98ca-12713655b4e3.png": {
     "image/png": "[encoded data removed]"
    }
   },
   "cell_type": "markdown",
   "id": "21b9f811-cbfc-4865-8e9d-7fd66999aa36",
   "metadata": {},
   "source": [
    "![Unidata_logo_horizontal_small.png](attachment:b211f231-f371-4845-98ca-12713655b4e3.png)\n",
    "# Introduction to MetPy Prerequisite Lessons\n",
    "## Foundations in Data Access Activity Notebook\n",
    "\n",
    "<br>\n",
    "<p><b>How to use this Notebook:</b><br>\n",
    "This notebook pairs with the <i>Foundations in Data Access</i> lesson. <br>\n",
    "Follow along with the instructions presented in the lesson, then  <br>\n",
    "return to this notebook when prompted. After an activity, you  <br>\n",
    "will be prompted to return to the lesson to proceed. </p>"
   ]
  },
  {
   "cell_type": "markdown",
   "id": "a486f558-2a3f-4b10-9506-9dc526e8b7f4",
   "metadata": {},
   "source": [
    "### Activity 0: Import required packages"
   ]
  },
  {
   "cell_type": "code",
   "execution_count": 1,
   "id": "0177096e-8b14-429b-98a2-7ec7449331e6",
   "metadata": {},
   "outputs": [],
   "source": [
    "## CELL 0A\n",
    "## INSTRUCTIONS: Run this cell\n",
    "\n",
    "import numpy as np\n",
    "import matplotlib.pyplot as plt\n",
    "import cartopy.crs as ccrs\n",
    "\n",
    "# Here is where we import the TDSCatalog class from Siphon for obtaining our data \n",
    "from siphon.catalog import TDSCatalog\n"
   ]
  },
  {
   "cell_type": "markdown",
   "id": "179d58d5-9e5e-47b6-a7b1-db4c3154af65",
   "metadata": {},
   "source": [
    "### Activity 1: Getting started with the THREDDS Data Server\n",
    "We can easily view a THREDDS Data Server (TDS) Catalog in a browser. For this activity, we'll examine Unidata's TDS catalog of case studies. \n",
    "\n",
    "<a href=\"https://thredds.ucar.edu/thredds/casestudies/catalog.html\" target=\"blank\">https://thredds.ucar.edu/thredds/casestudies/catalog.html</a>"
   ]
  },
  {
   "cell_type": "code",
   "execution_count": 2,
   "id": "25c0f9a2-8754-4adc-b7cf-2c6633b96134",
   "metadata": {},
   "outputs": [
    {
     "name": "stdout",
     "output_type": "stream",
     "text": [
      "https://thredds.ucar.edu/thredds/catalog/casestudies/harvey/goes16/Mesoscale-1/Channel02/20170826/catalog.xml\n"
     ]
    }
   ],
   "source": [
    "## CELL 1A \n",
    "## INSTRUCTIONS: Open the TDS link above in a new tab in your browser. \n",
    "## Then browse the folders to find catalog URL to:\n",
    "##    Hurricane Harvey GOES-16 imagery\n",
    "##    Mesoscale-1 extent\n",
    "##    Channel 02\n",
    "##    on August 26, 2017\n",
    "\n",
    "# Paste the URL here as a string:\n",
    "url = \"https://thredds.ucar.edu/thredds/catalog/casestudies/harvey/goes16/Mesoscale-1/Channel02/20170826/catalog.html\"\n",
    "\n",
    "# Change the URL above to be an xml document using Python's built-in replace module\n",
    "xmlurl = url.replace(\".html\", \".xml\")\n",
    "print(xmlurl)\n"
   ]
  },
  {
   "cell_type": "markdown",
   "id": "aa40267b-c575-4ee9-b5a7-1a88dd325cda",
   "metadata": {},
   "source": [
    "Now we have the catalog located, it's time to create and examine the TDSCatalog object"
   ]
  },
  {
   "cell_type": "code",
   "execution_count": 3,
   "id": "d8c283b6-b4a0-48e7-8469-5137eead8c9d",
   "metadata": {},
   "outputs": [
    {
     "data": {
      "text/plain": [
       "[GOES16_Mesoscale-1_20170826_235955_0.64_500m_29.5N_96.5W.nc4,\n",
       " GOES16_Mesoscale-1_20170826_235855_0.64_500m_29.5N_96.5W.nc4,\n",
       " GOES16_Mesoscale-1_20170826_235755_0.64_500m_29.5N_96.5W.nc4,\n",
       " GOES16_Mesoscale-1_20170826_235655_0.64_500m_29.5N_96.5W.nc4,\n",
       " GOES16_Mesoscale-1_20170826_235555_0.64_500m_29.5N_96.5W.nc4,\n",
       " GOES16_Mesoscale-1_20170826_235455_0.64_500m_29.5N_96.5W.nc4,\n",
       " GOES16_Mesoscale-1_20170826_235355_0.64_500m_29.5N_96.5W.nc4,\n",
       " GOES16_Mesoscale-1_20170826_235255_0.64_500m_29.5N_96.5W.nc4,\n",
       " GOES16_Mesoscale-1_20170826_235155_0.64_500m_29.5N_96.5W.nc4,\n",
       " GOES16_Mesoscale-1_20170826_235055_0.64_500m_29.5N_96.5W.nc4]"
      ]
     },
     "execution_count": 3,
     "metadata": {},
     "output_type": "execute_result"
    }
   ],
   "source": [
    "## CELL 1B\n",
    "## INSTRUCTIONS: Run this cell\n",
    "\n",
    "# Create the TDS Catalog object, satcat\n",
    "satcat = TDSCatalog(xmlurl)\n",
    "\n",
    "# The catalog itself isn't very useful to us. \n",
    "# What `is` useful is the datasets property of the object. \n",
    "# There are a LOT of items in the datasets property, so\n",
    "# let's just examine the first 10.\n",
    "satcat.datasets[0:10]\n"
   ]
  },
  {
   "cell_type": "markdown",
   "id": "7ed793be-fb17-464c-b3ff-f47bf1da62ae",
   "metadata": {},
   "source": [
    "The `datasets` property of the `satcat` object shows us a list of the .nc4 files that contain the data we'll use. "
   ]
  },
  {
   "cell_type": "code",
   "execution_count": 4,
   "id": "64f04e89-c7c0-475f-9469-05990043160f",
   "metadata": {},
   "outputs": [
    {
     "data": {
      "text/plain": [
       "2850"
      ]
     },
     "execution_count": 4,
     "metadata": {},
     "output_type": "execute_result"
    }
   ],
   "source": [
    "## CELL 1C\n",
    "## INSTRUCTIONS: Determine how many total items are in satcat.datasets\n",
    "# Type your code below:\n",
    "\n",
    "\n",
    "#answer:\n",
    "len(satcat.datasets)"
   ]
  },
  {
   "cell_type": "markdown",
   "id": "9c345d47-e832-4ce2-a250-fa73f1df28c2",
   "metadata": {},
   "source": [
    "We now have a list of all files available in the catalog, but the data are not yet pulled into memory for visualization or analysis. For this, we need to use the `remote_access()` method from Siphon. "
   ]
  },
  {
   "cell_type": "code",
   "execution_count": 5,
   "id": "b50eeea0-c78b-4303-8094-4d4368b6cf06",
   "metadata": {},
   "outputs": [
    {
     "data": {
      "text/plain": [
       "xarray.core.dataset.Dataset"
      ]
     },
     "execution_count": 5,
     "metadata": {},
     "output_type": "execute_result"
    }
   ],
   "source": [
    "## CELL 1D\n",
    "## INSTRUCTIONS: Run this cell\n",
    "\n",
    "# We will arbitrarily choose the 1000th file in the list to explore\n",
    "# In the next section, we will discuss the use of xarray here\n",
    "satdata = satcat.datasets[1000].remote_access(use_xarray=True)\n",
    "\n",
    "# Print the type of object that satdata is\n",
    "type(satdata)"
   ]
  },
  {
   "cell_type": "markdown",
   "id": "1fa77137-7533-4490-91ce-3119b61b2b55",
   "metadata": {},
   "source": [
    "Now we have an xarray `Dataset` that we can work with. However, we have not yet pulled back the layers enough to expose a single array we can visualize or do analysis with. To do any further work, we'll need to parse not only the data, but the metadata as well. In the next section, we'll explore this type of multi-dimensional dataset."
   ]
  },
  {
   "cell_type": "markdown",
   "id": "d097c5ef-8dbb-48ec-881e-96d7f88f3484",
   "metadata": {},
   "source": [
    "## When the above activity is complete, save this notebook and return to the course tab"
   ]
  },
  {
   "cell_type": "markdown",
   "id": "97b20092-3f7f-432b-a0bb-2c6b1f91ff69",
   "metadata": {},
   "source": [
    "### Activity 2: Explore Multi-dimensional data structures \n",
    "#### xarray HTML formatted summary tool\n",
    "Xarray has an HTML-formatted interactive summary tool for examing datasets. Simply execute the variable name to create the summary. "
   ]
  },
  {
   "cell_type": "code",
   "execution_count": 6,
   "id": "a3c9fb18-10f4-45ca-9af7-3c1f95523324",
   "metadata": {},
   "outputs": [
    {
     "data": {
      "text/html": [
       "<div><svg style=\"position: absolute; width: 0; height: 0; overflow: hidden\">\n",
       "<defs>\n",
       "<symbol id=\"icon-database\" viewBox=\"0 0 32 32\">\n",
       "<path d=\"M16 0c-8.837 0-16 2.239-16 5v4c0 2.761 7.163 5 16 5s16-2.239 16-5v-4c0-2.761-7.163-5-16-5z\"></path>\n",
       "<path d=\"M16 17c-8.837 0-16-2.239-16-5v6c0 2.761 7.163 5 16 5s16-2.239 16-5v-6c0 2.761-7.163 5-16 5z\"></path>\n",
       "<path d=\"M16 26c-8.837 0-16-2.239-16-5v6c0 2.761 7.163 5 16 5s16-2.239 16-5v-6c0 2.761-7.163 5-16 5z\"></path>\n",
       "</symbol>\n",
       "<symbol id=\"icon-file-text2\" viewBox=\"0 0 32 32\">\n",
       "<path d=\"M28.681 7.159c-0.694-0.947-1.662-2.053-2.724-3.116s-2.169-2.030-3.116-2.724c-1.612-1.182-2.393-1.319-2.841-1.319h-15.5c-1.378 0-2.5 1.121-2.5 2.5v27c0 1.378 1.122 2.5 2.5 2.5h23c1.378 0 2.5-1.122 2.5-2.5v-19.5c0-0.448-0.137-1.23-1.319-2.841zM24.543 5.457c0.959 0.959 1.712 1.825 2.268 2.543h-4.811v-4.811c0.718 0.556 1.584 1.309 2.543 2.268zM28 29.5c0 0.271-0.229 0.5-0.5 0.5h-23c-0.271 0-0.5-0.229-0.5-0.5v-27c0-0.271 0.229-0.5 0.5-0.5 0 0 15.499-0 15.5 0v7c0 0.552 0.448 1 1 1h7v19.5z\"></path>\n",
       "<path d=\"M23 26h-14c-0.552 0-1-0.448-1-1s0.448-1 1-1h14c0.552 0 1 0.448 1 1s-0.448 1-1 1z\"></path>\n",
       "<path d=\"M23 22h-14c-0.552 0-1-0.448-1-1s0.448-1 1-1h14c0.552 0 1 0.448 1 1s-0.448 1-1 1z\"></path>\n",
       "<path d=\"M23 18h-14c-0.552 0-1-0.448-1-1s0.448-1 1-1h14c0.552 0 1 0.448 1 1s-0.448 1-1 1z\"></path>\n",
       "</symbol>\n",
       "</defs>\n",
       "</svg>\n",
       "<style>/* CSS stylesheet for displaying xarray objects in jupyterlab.\n",
       " *\n",
       " */\n",
       "\n",
       ":root {\n",
       "  --xr-font-color0: var(--jp-content-font-color0, rgba(0, 0, 0, 1));\n",
       "  --xr-font-color2: var(--jp-content-font-color2, rgba(0, 0, 0, 0.54));\n",
       "  --xr-font-color3: var(--jp-content-font-color3, rgba(0, 0, 0, 0.38));\n",
       "  --xr-border-color: var(--jp-border-color2, #e0e0e0);\n",
       "  --xr-disabled-color: var(--jp-layout-color3, #bdbdbd);\n",
       "  --xr-background-color: var(--jp-layout-color0, white);\n",
       "  --xr-background-color-row-even: var(--jp-layout-color1, white);\n",
       "  --xr-background-color-row-odd: var(--jp-layout-color2, #eeeeee);\n",
       "}\n",
       "\n",
       "html[theme=dark],\n",
       "body.vscode-dark {\n",
       "  --xr-font-color0: rgba(255, 255, 255, 1);\n",
       "  --xr-font-color2: rgba(255, 255, 255, 0.54);\n",
       "  --xr-font-color3: rgba(255, 255, 255, 0.38);\n",
       "  --xr-border-color: #1F1F1F;\n",
       "  --xr-disabled-color: #515151;\n",
       "  --xr-background-color: #111111;\n",
       "  --xr-background-color-row-even: #111111;\n",
       "  --xr-background-color-row-odd: #313131;\n",
       "}\n",
       "\n",
       ".xr-wrap {\n",
       "  display: block;\n",
       "  min-width: 300px;\n",
       "  max-width: 700px;\n",
       "}\n",
       "\n",
       ".xr-text-repr-fallback {\n",
       "  /* fallback to plain text repr when CSS is not injected (untrusted notebook) */\n",
       "  display: none;\n",
       "}\n",
       "\n",
       ".xr-header {\n",
       "  padding-top: 6px;\n",
       "  padding-bottom: 6px;\n",
       "  margin-bottom: 4px;\n",
       "  border-bottom: solid 1px var(--xr-border-color);\n",
       "}\n",
       "\n",
       ".xr-header > div,\n",
       ".xr-header > ul {\n",
       "  display: inline;\n",
       "  margin-top: 0;\n",
       "  margin-bottom: 0;\n",
       "}\n",
       "\n",
       ".xr-obj-type,\n",
       ".xr-array-name {\n",
       "  margin-left: 2px;\n",
       "  margin-right: 10px;\n",
       "}\n",
       "\n",
       ".xr-obj-type {\n",
       "  color: var(--xr-font-color2);\n",
       "}\n",
       "\n",
       ".xr-sections {\n",
       "  padding-left: 0 !important;\n",
       "  display: grid;\n",
       "  grid-template-columns: 150px auto auto 1fr 20px 20px;\n",
       "}\n",
       "\n",
       ".xr-section-item {\n",
       "  display: contents;\n",
       "}\n",
       "\n",
       ".xr-section-item input {\n",
       "  display: none;\n",
       "}\n",
       "\n",
       ".xr-section-item input + label {\n",
       "  color: var(--xr-disabled-color);\n",
       "}\n",
       "\n",
       ".xr-section-item input:enabled + label {\n",
       "  cursor: pointer;\n",
       "  color: var(--xr-font-color2);\n",
       "}\n",
       "\n",
       ".xr-section-item input:enabled + label:hover {\n",
       "  color: var(--xr-font-color0);\n",
       "}\n",
       "\n",
       ".xr-section-summary {\n",
       "  grid-column: 1;\n",
       "  color: var(--xr-font-color2);\n",
       "  font-weight: 500;\n",
       "}\n",
       "\n",
       ".xr-section-summary > span {\n",
       "  display: inline-block;\n",
       "  padding-left: 0.5em;\n",
       "}\n",
       "\n",
       ".xr-section-summary-in:disabled + label {\n",
       "  color: var(--xr-font-color2);\n",
       "}\n",
       "\n",
       ".xr-section-summary-in + label:before {\n",
       "  display: inline-block;\n",
       "  content: '►';\n",
       "  font-size: 11px;\n",
       "  width: 15px;\n",
       "  text-align: center;\n",
       "}\n",
       "\n",
       ".xr-section-summary-in:disabled + label:before {\n",
       "  color: var(--xr-disabled-color);\n",
       "}\n",
       "\n",
       ".xr-section-summary-in:checked + label:before {\n",
       "  content: '▼';\n",
       "}\n",
       "\n",
       ".xr-section-summary-in:checked + label > span {\n",
       "  display: none;\n",
       "}\n",
       "\n",
       ".xr-section-summary,\n",
       ".xr-section-inline-details {\n",
       "  padding-top: 4px;\n",
       "  padding-bottom: 4px;\n",
       "}\n",
       "\n",
       ".xr-section-inline-details {\n",
       "  grid-column: 2 / -1;\n",
       "}\n",
       "\n",
       ".xr-section-details {\n",
       "  display: none;\n",
       "  grid-column: 1 / -1;\n",
       "  margin-bottom: 5px;\n",
       "}\n",
       "\n",
       ".xr-section-summary-in:checked ~ .xr-section-details {\n",
       "  display: contents;\n",
       "}\n",
       "\n",
       ".xr-array-wrap {\n",
       "  grid-column: 1 / -1;\n",
       "  display: grid;\n",
       "  grid-template-columns: 20px auto;\n",
       "}\n",
       "\n",
       ".xr-array-wrap > label {\n",
       "  grid-column: 1;\n",
       "  vertical-align: top;\n",
       "}\n",
       "\n",
       ".xr-preview {\n",
       "  color: var(--xr-font-color3);\n",
       "}\n",
       "\n",
       ".xr-array-preview,\n",
       ".xr-array-data {\n",
       "  padding: 0 5px !important;\n",
       "  grid-column: 2;\n",
       "}\n",
       "\n",
       ".xr-array-data,\n",
       ".xr-array-in:checked ~ .xr-array-preview {\n",
       "  display: none;\n",
       "}\n",
       "\n",
       ".xr-array-in:checked ~ .xr-array-data,\n",
       ".xr-array-preview {\n",
       "  display: inline-block;\n",
       "}\n",
       "\n",
       ".xr-dim-list {\n",
       "  display: inline-block !important;\n",
       "  list-style: none;\n",
       "  padding: 0 !important;\n",
       "  margin: 0;\n",
       "}\n",
       "\n",
       ".xr-dim-list li {\n",
       "  display: inline-block;\n",
       "  padding: 0;\n",
       "  margin: 0;\n",
       "}\n",
       "\n",
       ".xr-dim-list:before {\n",
       "  content: '(';\n",
       "}\n",
       "\n",
       ".xr-dim-list:after {\n",
       "  content: ')';\n",
       "}\n",
       "\n",
       ".xr-dim-list li:not(:last-child):after {\n",
       "  content: ',';\n",
       "  padding-right: 5px;\n",
       "}\n",
       "\n",
       ".xr-has-index {\n",
       "  font-weight: bold;\n",
       "}\n",
       "\n",
       ".xr-var-list,\n",
       ".xr-var-item {\n",
       "  display: contents;\n",
       "}\n",
       "\n",
       ".xr-var-item > div,\n",
       ".xr-var-item label,\n",
       ".xr-var-item > .xr-var-name span {\n",
       "  background-color: var(--xr-background-color-row-even);\n",
       "  margin-bottom: 0;\n",
       "}\n",
       "\n",
       ".xr-var-item > .xr-var-name:hover span {\n",
       "  padding-right: 5px;\n",
       "}\n",
       "\n",
       ".xr-var-list > li:nth-child(odd) > div,\n",
       ".xr-var-list > li:nth-child(odd) > label,\n",
       ".xr-var-list > li:nth-child(odd) > .xr-var-name span {\n",
       "  background-color: var(--xr-background-color-row-odd);\n",
       "}\n",
       "\n",
       ".xr-var-name {\n",
       "  grid-column: 1;\n",
       "}\n",
       "\n",
       ".xr-var-dims {\n",
       "  grid-column: 2;\n",
       "}\n",
       "\n",
       ".xr-var-dtype {\n",
       "  grid-column: 3;\n",
       "  text-align: right;\n",
       "  color: var(--xr-font-color2);\n",
       "}\n",
       "\n",
       ".xr-var-preview {\n",
       "  grid-column: 4;\n",
       "}\n",
       "\n",
       ".xr-var-name,\n",
       ".xr-var-dims,\n",
       ".xr-var-dtype,\n",
       ".xr-preview,\n",
       ".xr-attrs dt {\n",
       "  white-space: nowrap;\n",
       "  overflow: hidden;\n",
       "  text-overflow: ellipsis;\n",
       "  padding-right: 10px;\n",
       "}\n",
       "\n",
       ".xr-var-name:hover,\n",
       ".xr-var-dims:hover,\n",
       ".xr-var-dtype:hover,\n",
       ".xr-attrs dt:hover {\n",
       "  overflow: visible;\n",
       "  width: auto;\n",
       "  z-index: 1;\n",
       "}\n",
       "\n",
       ".xr-var-attrs,\n",
       ".xr-var-data {\n",
       "  display: none;\n",
       "  background-color: var(--xr-background-color) !important;\n",
       "  padding-bottom: 5px !important;\n",
       "}\n",
       "\n",
       ".xr-var-attrs-in:checked ~ .xr-var-attrs,\n",
       ".xr-var-data-in:checked ~ .xr-var-data {\n",
       "  display: block;\n",
       "}\n",
       "\n",
       ".xr-var-data > table {\n",
       "  float: right;\n",
       "}\n",
       "\n",
       ".xr-var-name span,\n",
       ".xr-var-data,\n",
       ".xr-attrs {\n",
       "  padding-left: 25px !important;\n",
       "}\n",
       "\n",
       ".xr-attrs,\n",
       ".xr-var-attrs,\n",
       ".xr-var-data {\n",
       "  grid-column: 1 / -1;\n",
       "}\n",
       "\n",
       "dl.xr-attrs {\n",
       "  padding: 0;\n",
       "  margin: 0;\n",
       "  display: grid;\n",
       "  grid-template-columns: 125px auto;\n",
       "}\n",
       "\n",
       ".xr-attrs dt,\n",
       ".xr-attrs dd {\n",
       "  padding: 0;\n",
       "  margin: 0;\n",
       "  float: left;\n",
       "  padding-right: 10px;\n",
       "  width: auto;\n",
       "}\n",
       "\n",
       ".xr-attrs dt {\n",
       "  font-weight: normal;\n",
       "  grid-column: 1;\n",
       "}\n",
       "\n",
       ".xr-attrs dt:hover span {\n",
       "  display: inline-block;\n",
       "  background: var(--xr-background-color);\n",
       "  padding-right: 10px;\n",
       "}\n",
       "\n",
       ".xr-attrs dd {\n",
       "  grid-column: 2;\n",
       "  white-space: pre-wrap;\n",
       "  word-break: break-all;\n",
       "}\n",
       "\n",
       ".xr-icon-database,\n",
       ".xr-icon-file-text2 {\n",
       "  display: inline-block;\n",
       "  vertical-align: middle;\n",
       "  width: 1em;\n",
       "  height: 1.5em !important;\n",
       "  stroke-width: 0;\n",
       "  stroke: currentColor;\n",
       "  fill: currentColor;\n",
       "}\n",
       "</style><pre class='xr-text-repr-fallback'>&lt;xarray.Dataset&gt;\n",
       "Dimensions:             (y: 2468, x: 2184)\n",
       "Coordinates:\n",
       "    time                datetime64[ns] 2017-08-26T15:24:55\n",
       "  * y                   (y) float32 6.811e+05 6.806e+05 ... -5.996e+05\n",
       "  * x                   (x) float32 -5.83e+05 -5.824e+05 ... 5.497e+05 5.503e+05\n",
       "Data variables:\n",
       "    Sectorized_CMI      (y, x) float32 ...\n",
       "    lambert_projection  &gt;i4 -2147483647\n",
       "Attributes: (12/30)\n",
       "    title:                       Sectorized Cloud and Moisture Imagery for th...\n",
       "    ICD_version:                 GROUND SEGMENT (GS) TO ADVANCED WEATHER INTE...\n",
       "    Conventions:                 CF-1.6\n",
       "    channel_id:                  2\n",
       "    central_wavelength:          0.64\n",
       "    abi_mode:                    3\n",
       "    ...                          ...\n",
       "    pixel_y_size:                0.5191087889308389\n",
       "    satellite_latitude:          0.0\n",
       "    satellite_longitude:         -89.5\n",
       "    satellite_altitude:          35785831.0\n",
       "    created_by:                  ldm-alchemy\n",
       "    product_tiles_received:      9</pre><div class='xr-wrap' hidden><div class='xr-header'><div class='xr-obj-type'>xarray.Dataset</div></div><ul class='xr-sections'><li class='xr-section-item'><input id='section-822a1b55-8bf2-4ac1-a1a2-93feff415474' class='xr-section-summary-in' type='checkbox' disabled ><label for='section-822a1b55-8bf2-4ac1-a1a2-93feff415474' class='xr-section-summary'  title='Expand/collapse section'>Dimensions:</label><div class='xr-section-inline-details'><ul class='xr-dim-list'><li><span class='xr-has-index'>y</span>: 2468</li><li><span class='xr-has-index'>x</span>: 2184</li></ul></div><div class='xr-section-details'></div></li><li class='xr-section-item'><input id='section-d9c5e2d3-3db4-41a8-be5f-acc058df002a' class='xr-section-summary-in' type='checkbox'  checked><label for='section-d9c5e2d3-3db4-41a8-be5f-acc058df002a' class='xr-section-summary' >Coordinates: <span>(3)</span></label><div class='xr-section-inline-details'></div><div class='xr-section-details'><ul class='xr-var-list'><li class='xr-var-item'><div class='xr-var-name'><span>time</span></div><div class='xr-var-dims'>()</div><div class='xr-var-dtype'>datetime64[ns]</div><div class='xr-var-preview xr-preview'>...</div><input id='attrs-4d945fcd-7f9f-4930-8367-2a9feb288490' class='xr-var-attrs-in' type='checkbox' ><label for='attrs-4d945fcd-7f9f-4930-8367-2a9feb288490' title='Show/Hide attributes'><svg class='icon xr-icon-file-text2'><use xlink:href='#icon-file-text2'></use></svg></label><input id='data-537afedb-b5a9-47a0-bc41-b12d6ce6d75b' class='xr-var-data-in' type='checkbox'><label for='data-537afedb-b5a9-47a0-bc41-b12d6ce6d75b' title='Show/Hide data repr'><svg class='icon xr-icon-database'><use xlink:href='#icon-database'></use></svg></label><div class='xr-var-attrs'><dl class='xr-attrs'><dt><span>standard_name :</span></dt><dd>time</dd><dt><span>long_name :</span></dt><dd>The start date / time that the satellite began capturing the scene</dd><dt><span>axis :</span></dt><dd>T</dd></dl></div><div class='xr-var-data'><pre>array(&#x27;2017-08-26T15:24:55.000000000&#x27;, dtype=&#x27;datetime64[ns]&#x27;)</pre></div></li><li class='xr-var-item'><div class='xr-var-name'><span class='xr-has-index'>y</span></div><div class='xr-var-dims'>(y)</div><div class='xr-var-dtype'>float32</div><div class='xr-var-preview xr-preview'>6.811e+05 6.806e+05 ... -5.996e+05</div><input id='attrs-bba3dd50-70d8-4680-9bc7-f4d646739d88' class='xr-var-attrs-in' type='checkbox' ><label for='attrs-bba3dd50-70d8-4680-9bc7-f4d646739d88' title='Show/Hide attributes'><svg class='icon xr-icon-file-text2'><use xlink:href='#icon-file-text2'></use></svg></label><input id='data-6e28a2ff-8163-4a7b-9070-42c89dcf136e' class='xr-var-data-in' type='checkbox'><label for='data-6e28a2ff-8163-4a7b-9070-42c89dcf136e' title='Show/Hide data repr'><svg class='icon xr-icon-database'><use xlink:href='#icon-database'></use></svg></label><div class='xr-var-attrs'><dl class='xr-attrs'><dt><span>standard_name :</span></dt><dd>projection_y_coordinate</dd><dt><span>units :</span></dt><dd>meters</dd></dl></div><div class='xr-var-data'><pre>array([ 681070.75,  680551.6 ,  680032.56, ..., -598532.4 , -599051.5 ,\n",
       "       -599570.6 ], dtype=float32)</pre></div></li><li class='xr-var-item'><div class='xr-var-name'><span class='xr-has-index'>x</span></div><div class='xr-var-dims'>(x)</div><div class='xr-var-dtype'>float32</div><div class='xr-var-preview xr-preview'>-5.83e+05 -5.824e+05 ... 5.503e+05</div><input id='attrs-ab31ab8f-bfc0-4d41-a562-14d8c9401738' class='xr-var-attrs-in' type='checkbox' ><label for='attrs-ab31ab8f-bfc0-4d41-a562-14d8c9401738' title='Show/Hide attributes'><svg class='icon xr-icon-file-text2'><use xlink:href='#icon-file-text2'></use></svg></label><input id='data-edcffb4d-25ed-4b74-90ae-c03564ef9df9' class='xr-var-data-in' type='checkbox'><label for='data-edcffb4d-25ed-4b74-90ae-c03564ef9df9' title='Show/Hide data repr'><svg class='icon xr-icon-database'><use xlink:href='#icon-database'></use></svg></label><div class='xr-var-attrs'><dl class='xr-attrs'><dt><span>standard_name :</span></dt><dd>projection_x_coordinate</dd><dt><span>units :</span></dt><dd>meters</dd></dl></div><div class='xr-var-data'><pre>array([-582959.2 , -582440.06, -581921.  , ...,  549217.06,  549736.2 ,\n",
       "        550255.2 ], dtype=float32)</pre></div></li></ul></div></li><li class='xr-section-item'><input id='section-19c26725-f27c-4cb9-9b52-d0826f25da43' class='xr-section-summary-in' type='checkbox'  checked><label for='section-19c26725-f27c-4cb9-9b52-d0826f25da43' class='xr-section-summary' >Data variables: <span>(2)</span></label><div class='xr-section-inline-details'></div><div class='xr-section-details'><ul class='xr-var-list'><li class='xr-var-item'><div class='xr-var-name'><span>Sectorized_CMI</span></div><div class='xr-var-dims'>(y, x)</div><div class='xr-var-dtype'>float32</div><div class='xr-var-preview xr-preview'>...</div><input id='attrs-dd2d246b-8bcc-4235-92b4-1a330a305cc6' class='xr-var-attrs-in' type='checkbox' ><label for='attrs-dd2d246b-8bcc-4235-92b4-1a330a305cc6' title='Show/Hide attributes'><svg class='icon xr-icon-file-text2'><use xlink:href='#icon-file-text2'></use></svg></label><input id='data-9302f2a3-31dc-4a6a-86e9-a11363e68664' class='xr-var-data-in' type='checkbox'><label for='data-9302f2a3-31dc-4a6a-86e9-a11363e68664' title='Show/Hide data repr'><svg class='icon xr-icon-database'><use xlink:href='#icon-database'></use></svg></label><div class='xr-var-attrs'><dl class='xr-attrs'><dt><span>standard_name :</span></dt><dd>toa_bidirectional_reflectance</dd><dt><span>units :</span></dt><dd>1</dd><dt><span>grid_mapping :</span></dt><dd>lambert_projection</dd><dt><span>valid_min :</span></dt><dd>0</dd><dt><span>valid_max :</span></dt><dd>4095</dd><dt><span>_ChunkSizes :</span></dt><dd>[1024 1024]</dd></dl></div><div class='xr-var-data'><pre>[5390112 values with dtype=float32]</pre></div></li><li class='xr-var-item'><div class='xr-var-name'><span>lambert_projection</span></div><div class='xr-var-dims'>()</div><div class='xr-var-dtype'>int32</div><div class='xr-var-preview xr-preview'>...</div><input id='attrs-3037c340-65b9-4a3f-bbc2-43f07cea7393' class='xr-var-attrs-in' type='checkbox' ><label for='attrs-3037c340-65b9-4a3f-bbc2-43f07cea7393' title='Show/Hide attributes'><svg class='icon xr-icon-file-text2'><use xlink:href='#icon-file-text2'></use></svg></label><input id='data-9a2d7f26-ef09-45f8-8711-b096d92e6837' class='xr-var-data-in' type='checkbox'><label for='data-9a2d7f26-ef09-45f8-8711-b096d92e6837' title='Show/Hide data repr'><svg class='icon xr-icon-database'><use xlink:href='#icon-database'></use></svg></label><div class='xr-var-attrs'><dl class='xr-attrs'><dt><span>grid_mapping_name :</span></dt><dd>lambert_conformal_conic</dd><dt><span>standard_parallel :</span></dt><dd>29.102297326665322</dd><dt><span>longitude_of_central_meridian :</span></dt><dd>-96.28289518455738</dd><dt><span>latitude_of_projection_origin :</span></dt><dd>29.102297326665322</dd><dt><span>false_easting :</span></dt><dd>0.0</dd><dt><span>false_northing :</span></dt><dd>0.0</dd><dt><span>semi_major :</span></dt><dd>6371200.0</dd><dt><span>semi_major_axis :</span></dt><dd>6371200.0</dd><dt><span>semi_minor :</span></dt><dd>6371200.0</dd><dt><span>semi_minor_axis :</span></dt><dd>6371200.0</dd></dl></div><div class='xr-var-data'><pre>array(-2147483647, dtype=int32)</pre></div></li></ul></div></li><li class='xr-section-item'><input id='section-71036e76-2ef1-4c06-9859-fda06eea2fc9' class='xr-section-summary-in' type='checkbox'  ><label for='section-71036e76-2ef1-4c06-9859-fda06eea2fc9' class='xr-section-summary' >Attributes: <span>(30)</span></label><div class='xr-section-inline-details'></div><div class='xr-section-details'><dl class='xr-attrs'><dt><span>title :</span></dt><dd>Sectorized Cloud and Moisture Imagery for the TMESO region.</dd><dt><span>ICD_version :</span></dt><dd>GROUND SEGMENT (GS) TO ADVANCED WEATHER INTERACTIVE PROCESSING SYSTEM (AWIPS) INTERFACE CONTROL DOCUMENT (ICD) Revision B</dd><dt><span>Conventions :</span></dt><dd>CF-1.6</dd><dt><span>channel_id :</span></dt><dd>2</dd><dt><span>central_wavelength :</span></dt><dd>0.64</dd><dt><span>abi_mode :</span></dt><dd>3</dd><dt><span>source_scene :</span></dt><dd>Mesoscale-1</dd><dt><span>periodicity :</span></dt><dd>0.5</dd><dt><span>production_location :</span></dt><dd>WCDAS</dd><dt><span>product_name :</span></dt><dd>TMESO-005-B12-M3C02</dd><dt><span>satellite_id :</span></dt><dd>GOES-16</dd><dt><span>product_center_latitude :</span></dt><dd>29.46865181934163</dd><dt><span>product_center_longitude :</span></dt><dd>-96.45179550120574</dd><dt><span>projection :</span></dt><dd>Lambert Conformal</dd><dt><span>bit_depth :</span></dt><dd>12</dd><dt><span>source_spatial_resolution :</span></dt><dd>0.5</dd><dt><span>request_spatial_resolution :</span></dt><dd>0.5191088</dd><dt><span>start_date_time :</span></dt><dd>2017238152455</dd><dt><span>number_product_tiles :</span></dt><dd>9</dd><dt><span>product_tile_width :</span></dt><dd>1024</dd><dt><span>product_tile_height :</span></dt><dd>1024</dd><dt><span>product_rows :</span></dt><dd>2468</dd><dt><span>product_columns :</span></dt><dd>2184</dd><dt><span>pixel_x_size :</span></dt><dd>0.5191087889308389</dd><dt><span>pixel_y_size :</span></dt><dd>0.5191087889308389</dd><dt><span>satellite_latitude :</span></dt><dd>0.0</dd><dt><span>satellite_longitude :</span></dt><dd>-89.5</dd><dt><span>satellite_altitude :</span></dt><dd>35785831.0</dd><dt><span>created_by :</span></dt><dd>ldm-alchemy</dd><dt><span>product_tiles_received :</span></dt><dd>9</dd></dl></div></li></ul></div></div>"
      ],
      "text/plain": [
       "<xarray.Dataset>\n",
       "Dimensions:             (y: 2468, x: 2184)\n",
       "Coordinates:\n",
       "    time                datetime64[ns] ...\n",
       "  * y                   (y) float32 6.811e+05 6.806e+05 ... -5.996e+05\n",
       "  * x                   (x) float32 -5.83e+05 -5.824e+05 ... 5.497e+05 5.503e+05\n",
       "Data variables:\n",
       "    Sectorized_CMI      (y, x) float32 ...\n",
       "    lambert_projection  int32 ...\n",
       "Attributes: (12/30)\n",
       "    title:                       Sectorized Cloud and Moisture Imagery for th...\n",
       "    ICD_version:                 GROUND SEGMENT (GS) TO ADVANCED WEATHER INTE...\n",
       "    Conventions:                 CF-1.6\n",
       "    channel_id:                  2\n",
       "    central_wavelength:          0.64\n",
       "    abi_mode:                    3\n",
       "    ...                          ...\n",
       "    pixel_y_size:                0.5191087889308389\n",
       "    satellite_latitude:          0.0\n",
       "    satellite_longitude:         -89.5\n",
       "    satellite_altitude:          35785831.0\n",
       "    created_by:                  ldm-alchemy\n",
       "    product_tiles_received:      9"
      ]
     },
     "execution_count": 6,
     "metadata": {},
     "output_type": "execute_result"
    }
   ],
   "source": [
    "## CELL 2A \n",
    "## INSTRUCTIONS: Run this cell to create a formatted exploration tool for the xarray dataset\n",
    "\n",
    "satdata\n"
   ]
  },
  {
   "cell_type": "markdown",
   "id": "6a6328f8-1fe9-42c2-abe0-e5e334df238c",
   "metadata": {},
   "source": [
    "We now see an interactive summary of the dimensions, coordinates, variables, attributes for the dataset. This information can help with plotting, analysis, and generally understanding the data you are working with. Answer the questions below given the information in the HTML formatted summary table above."
   ]
  },
  {
   "cell_type": "code",
   "execution_count": 7,
   "id": "f70f621e-9487-4846-b4bf-e2f0cfbd2cad",
   "metadata": {},
   "outputs": [],
   "source": [
    "## CELL 2B\n",
    "## INSTRUCTIONS: Find the following information about the dataset:\n",
    "\n",
    "# 1. The title, or full description of the dataset\n",
    "#     answer: Sectorized Cloud and Moisture Imagery for the TMESO region.\n",
    "# 2. The name of the variable that contains the satellite imagery \n",
    "#     answer: Sectorized_CMI\n",
    "# 3. The coordinate system the data were collected in\n",
    "#     answer: Lambert Conformal\n",
    "# 4. The size of the array (# cells in x and y)\n",
    "#     answer: x=2184 y=2468\n",
    "# 5. The metadata conventions the dataset uses\n",
    "#     answer: CF-1.6"
   ]
  },
  {
   "cell_type": "markdown",
   "id": "e6a7332e-bfa5-4b86-8b54-b47deea1c5a9",
   "metadata": {},
   "source": [
    "<div class=\"admonition alert alert-info\">\n",
    "    <p class=\"admonition-title\" style=\"font-weight:bold\">More Info</p>\n",
    "    You may see the CF (Climate and Forecasting) metadata conventions in many popular atmospheric datasets. These conventions provide standardized variable names and units and recommendations on metadata such as projection information and coordinate information. You can read more about CF conventions here: <a href=\"cfconventions.org\" target=\"blank\">https://cfconventions.org/</a>\n",
    "</div>"
   ]
  },
  {
   "cell_type": "markdown",
   "id": "0d4cec7e-f3a1-461d-b2ea-a8d0a986c5da",
   "metadata": {},
   "source": [
    "#### Get the data array\n",
    "There are several ways to extract the array containing the satellite imagery from the xarray dataset depending on your specific use case. The method we'll use in this example uses MetPy and the parse_cf() method. "
   ]
  },
  {
   "cell_type": "code",
   "execution_count": 8,
   "id": "58a06705-8c5b-4bce-9134-0567f574460b",
   "metadata": {},
   "outputs": [
    {
     "data": {
      "text/plain": [
       "xarray.core.dataarray.DataArray"
      ]
     },
     "execution_count": 8,
     "metadata": {},
     "output_type": "execute_result"
    }
   ],
   "source": [
    "## CELL 2C\n",
    "## INSTRUCTIONS: set `var` as the name of the data variable from number 2 above as a string\n",
    "\n",
    "var = \"Sectorized_CMI\"\n",
    "\n",
    "# import metpy\n",
    "import metpy\n",
    "\n",
    "# extract the data array from the xarray dataset\n",
    "satarray = satdata.metpy.parse_cf(var)\n",
    "type(satarray)"
   ]
  },
  {
   "cell_type": "markdown",
   "id": "168232ec-4e1e-4f65-b629-0d222f1f6931",
   "metadata": {},
   "source": [
    "#### Plot on projected axes with Cartopy\n",
    "Now we have an array that we can do analysis with or plot. Let's now pull the projection information from the dataset and plot it on projected axes with Cartopy. "
   ]
  },
  {
   "cell_type": "code",
   "execution_count": 9,
   "id": "2c967dc2-8d09-4849-8bdf-5d9b911d1628",
   "metadata": {},
   "outputs": [
    {
     "data": {
      "text/plain": [
       "<matplotlib.image.AxesImage at 0x1651d74f0>"
      ]
     },
     "execution_count": 9,
     "metadata": {},
     "output_type": "execute_result"
    },
    {
     "data": {
      "image/png": "[encoded data removed]",
      "text/plain": [
       "<Figure size 432x288 with 1 Axes>"
      ]
     },
     "metadata": {
      "needs_background": "light"
     },
     "output_type": "display_data"
    }
   ],
   "source": [
    "## CELL 2D\n",
    "## INSTRUCTIONS: Set the projection for the data array\n",
    "# given the information in the satdata object\n",
    "# Use the Cartopy documentation for syntax\n",
    "# https://scitools.org.uk/cartopy/docs/latest/crs/projections.html\n",
    "# Or refer to the Foundations in Cartopy lesson\n",
    "\n",
    "# Set the projection of the data\n",
    "proj = ccrs.LambertConformal()\n",
    "\n",
    "# Plot the data\n",
    "fig = plt.figure()\n",
    "ax = fig.add_subplot(projection=proj)\n",
    "ax.imshow(satarray,transform=proj)\n"
   ]
  },
  {
   "cell_type": "markdown",
   "id": "a03b4d45-7c7d-45b4-8f22-93df0fa85ef0",
   "metadata": {},
   "source": [
    "## When the above activity is complete, save this notebook and return to the course tab"
   ]
  }
 ],
 "metadata": {
  "kernelspec": {
   "display_name": "Python [conda env:metpy-workshop]",
   "language": "python",
   "name": "conda-env-metpy-workshop-py"
  },
  "language_info": {
   "codemirror_mode": {
    "name": "ipython",
    "version": 3
   },
   "file_extension": ".py",
   "mimetype": "text/x-python",
   "name": "python",
   "nbconvert_exporter": "python",
   "pygments_lexer": "ipython3",
   "version": "3.9.7"
  }
 },
 "nbformat": 4,
 "nbformat_minor": 5
}
