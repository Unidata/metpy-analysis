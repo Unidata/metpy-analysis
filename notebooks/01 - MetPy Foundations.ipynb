{
 "cells": [
  {
   "cell_type": "markdown",
   "metadata": {},
   "source": [
    "<div style=\"width:1000 px\">\n",
    "\n",
    "<div style=\"float:right; width:98 px; height:98px;\">\n",
    "<img src=\"https://raw.githubusercontent.com/Unidata/MetPy/master/src/metpy/plots/_static/unidata_150x150.png\" alt=\"Unidata Logo\" style=\"height: 98px;\">\n",
    "</div>\n",
    "\n",
    "<h1>MetPy Foundations</h1>\n",
    "    <h3>MetPy for Quantitative Analysis of Meteorological Data</h3>\n",
    "\n",
    "<div style=\"clear:both\"></div>\n",
    "</div>\n",
    "\n",
    "<hr style=\"height:2px;\">\n",
    "\n",
    "### Topics\n",
    "1. <a href=\"#units\">Units and MetPy</a>\n",
    "1. <a href=\"#constants\">MetPy Constants</a>\n",
    "1. <a href=\"#calculations\">MetPy Calculations</a>"
   ]
  },
  {
   "cell_type": "markdown",
   "metadata": {
    "tags": []
   },
   "source": [
    "<a name=\"background\"></a>\n",
    "## Background\n",
    "MetPy is a modern meteorological open-source toolkit for Python. It is a maintained project of [Unidata](http://www.unidata.ucar.edu) to serve the academic meteorological community. MetPy consists of three major areas of functionality:\n",
    "\n",
    "\n",
    "### Plotting\n",
    "As meteorologists, we have many field specific plots that we make. Some of these, such as the Skew-T Log-p require non-standard axes and are difficult to plot in most plotting software. In MetPy we've baked in a lot of this specialized functionality to help you get your plots made and get back to doing science. We will go over making different kinds of plots during the workshop.<br>\n",
    "<center><img width=\"700\" src=\"https://unidata.github.io/MetPy/latest/_images/sphx_glr_Station_Plot_001.png\"/><br><i>Example of MetPy plotting tools</i></center>\n",
    "\n",
    "### Calculations\n",
    "Meteorology also has a common set of calculations that everyone ends up programming themselves. This is error-prone and a huge duplication of work. MetPy contains a set of well-tested calculations that is continually growing in an effort to be at feature parity with other legacy packages such as GEMPAK.\n",
    "<center><a href=\"https://unidata.github.io/MetPy/latest/api/generated/metpy.calc.html\" target=\"blank\">MetPy Calculation Reference</a></center>\n",
    "\n",
    "### File I/O\n",
    "Finally, there are a number of odd file formats in the meteorological community. MetPy has incorporated a set of readers to help you deal with file formats that you may encounter during your research, including working with many xarray functions for data organization. \n",
    "<center><a href=\"https://unidata.github.io/MetPy/latest/api/generated/metpy.io.html\" target=\"blank\">MetPy I/O Reference</a> | <a href=\"https://unidata.github.io/MetPy/latest/api/generated/metpy.xarray.html\" target=\"blank\">MetPy xarray Reference</a></center>\n"
   ]
  },
  {
   "cell_type": "markdown",
   "metadata": {},
   "source": [
    "<a name=\"units\"></a>\n",
    "## Units and MetPy\n",
    "\n",
    "Early in our scientific careers we all learn about the importance of paying attention to units in our calculations. Unit conversions can still get the best of us and have caused more than one major technical disaster, including the crash and complete loss of the $327 million [Mars Climate Orbiter](https://en.wikipedia.org/wiki/Mars_Climate_Orbiter). \n",
    "\n",
    "MetPy uses the [pint](https://pint.readthedocs.io/en/latest/) library and a custom unit registry to help prevent unit mistakes in calculations. That means that every quantity you pass to MetPy should have units attached, just like if you were doing the calculation on paper. Attaching units is easy, simply multiply (`*`) the magnitude by the units in the format `units.___`."
   ]
  },
  {
   "cell_type": "code",
   "execution_count": null,
   "metadata": {
    "tags": []
   },
   "outputs": [],
   "source": [
    "# Import the MetPy unit registry\n",
    "from metpy.units import units"
   ]
  },
  {
   "cell_type": "code",
   "execution_count": null,
   "metadata": {},
   "outputs": [],
   "source": [
    "length = 10.4 * units.inches\n",
    "width = 20 * units.meters\n",
    "\n",
    "print(length, width)"
   ]
  },
  {
   "cell_type": "markdown",
   "metadata": {},
   "source": [
    "You can also use tab completion to see what units are available in the `units` registry.\n",
    "\n",
    "Let's now attempt a rectangular area calculation with the above measurements. Multiplying length and width, we'll get an area in return with units attached."
   ]
  },
  {
   "cell_type": "code",
   "execution_count": null,
   "metadata": {},
   "outputs": [],
   "source": [
    "area = length * width\n",
    "\n",
    "print(area)"
   ]
  },
  {
   "cell_type": "markdown",
   "metadata": {},
   "source": [
    "That's great, now we have an area, but it is not in a very useful unit...\n",
    "\n",
    "MetPy can save you the headache of looking up conversions and maintaining high precision with the `.to()` method. You have the option of converting the individual measurements or the final area calculation. While you won't see m$^2$ in the units list, we can parse complex/compound units as strings:"
   ]
  },
  {
   "cell_type": "code",
   "execution_count": null,
   "metadata": {},
   "outputs": [],
   "source": [
    "area.to('m^2')"
   ]
  },
  {
   "cell_type": "markdown",
   "metadata": {},
   "source": [
    "<div class=\"alert alert-success\">\n",
    "    <b>POLL</b>: \n",
    "\n",
    "Which outputs the correct units for velocity?\n",
    "</div>\n",
    "\n",
    "`a = 10 * units.m / 20 * units.s`\n",
    "\n",
    "`b = 10 * units.m / (20 * units.s)`"
   ]
  },
  {
   "cell_type": "markdown",
   "metadata": {},
   "source": [
    "### Temperature\n",
    "In meteorology, we frequently use three different measurements systems for temperature. We often get temperature in Kelvin from model output, but may want to report temperature for communication purposes in Celsius or Fahrenheit. To convert from one unit of temperature to another, we apply a conversion equation such as: $$F = (K − 273.15) * (9/5) + 32$$\n",
    "\n",
    "\n",
    "These conversions are straightforward for simple one to one calculations. Where we run into trouble is when we refer to changes in temperature from one unit system to another. Temperature is a non-multiplicative unit - they are in a system with a reference point. That means that not only is there a scaling factor (9/5), but also an offset (32). This makes the math and unit book-keeping a little more complex. \n",
    "\n",
    "Imagine running a numerical model that tests the effect of surface temperature on cloud cover. Let's say we want to increase the baseline surface temperature of 290 K by 8 degrees Celsius. There may be many ways you can think of to complete this operation, so let's test a few methods:\n",
    "\n",
    "\n",
    "\n",
    "\n",
    "Imagine adding 10 degrees Celsius to 100 degrees Celsius. Is the answer 110 degrees Celsius or 383.15 degrees Celsius (283.15 K + 373.15 K)? That's why there are delta degrees units in the unit registry for offset units. For more examples and explanation you can watch [MetPy Monday #13](https://www.youtube.com/watch?v=iveJCqxe3Z4).\n",
    "\n"
   ]
  },
  {
   "cell_type": "code",
   "execution_count": null,
   "metadata": {
    "tags": []
   },
   "outputs": [],
   "source": [
    "# Starting simple, try adding 8 degrees C to 290 K\n",
    "290 * units.kelvin + 8 * units.degC"
   ]
  },
  {
   "cell_type": "markdown",
   "metadata": {},
   "source": [
    "Notice that this fails with error `\"Ambiguous operation with offset unit\"` because we cannot add two units with offset reference points. \n",
    "\n",
    "Instead, we must look again at the problem we are trying to solve: Increase 290 K by 8 degrees Celsius. In this case, the 8 degrees Celsius is not a single temperature measurement, it is a representation of temperature change. On the Kelvin scale, we increase the starting temperature by an equivalent of 8 degrees Celsius, i.e. $\\Delta$ 8 degrees Celsius.\n",
    "\n",
    "MetPy (and pint) have a special unit to complete these kinds of calculations, `delta_degC`. Let's try our calculation again and find our resulting surface temperature:"
   ]
  },
  {
   "cell_type": "code",
   "execution_count": null,
   "metadata": {},
   "outputs": [],
   "source": [
    "290 * units.kelvin + 8 * units.delta_degC"
   ]
  },
  {
   "cell_type": "markdown",
   "metadata": {},
   "source": [
    "<div class=\"alert alert-warning\">\n",
    "    <b>NOTE</b>\n",
    "    \n",
    "Absolute temperature scales like Kelvin and Rankine do not have an offset and therefore can be used in addition/subtraction without the need for a delta verion of the unit. For example, \n",
    "    \n",
    "<code>>> 273 * units.kelvin + 10 * units.kelvin</code>\n",
    "\n",
    "<code>>> 283 kelvin</code>\n",
    "    \n",
    "    \n",
    "<code>>> 273 * units.kelvin - 10 * units.kelvin</code>\n",
    "\n",
    "<code>>> 263 kelvin</code>\n",
    "</div>"
   ]
  },
  {
   "cell_type": "markdown",
   "metadata": {},
   "source": [
    "<a href=\"#top\">Top</a>\n",
    "<hr style=\"height:2px;\">"
   ]
  },
  {
   "cell_type": "markdown",
   "metadata": {},
   "source": [
    "<a name=\"constants\"></a>\n",
    "## MetPy Constants\n",
    "Another common place that problems creep into scientific code is the value of constants. Can you reproduce someone else's computations from their paper? Probably not unless you know the value of all of their constants. Was the radius of the earth 6000 km, 6300km, 6371 km, or was it actually latitude dependent?\n",
    "\n",
    "MetPy has a set of constants that can be easily accessed and make your calculations reproducible. You can view a [full table](https://unidata.github.io/MetPy/latest/api/generated/metpy.constants.html#module-metpy.constants) in the docs, look at the module docstring with `metpy.constants?` or checkout what's available with tab completion."
   ]
  },
  {
   "cell_type": "code",
   "execution_count": null,
   "metadata": {
    "tags": []
   },
   "outputs": [],
   "source": [
    "import metpy.constants as mpconst\n",
    "import numpy as np"
   ]
  },
  {
   "cell_type": "code",
   "execution_count": null,
   "metadata": {},
   "outputs": [],
   "source": [
    "mpconst.earth_avg_radius"
   ]
  },
  {
   "cell_type": "code",
   "execution_count": null,
   "metadata": {},
   "outputs": [],
   "source": [
    "mpconst.dry_air_molecular_weight"
   ]
  },
  {
   "cell_type": "markdown",
   "metadata": {},
   "source": [
    "You may also notice in the table that most constants have a short name as well that can be used:"
   ]
  },
  {
   "cell_type": "code",
   "execution_count": null,
   "metadata": {},
   "outputs": [],
   "source": [
    "mpconst.Re"
   ]
  },
  {
   "cell_type": "code",
   "execution_count": null,
   "metadata": {},
   "outputs": [],
   "source": [
    "mpconst.Md"
   ]
  },
  {
   "cell_type": "code",
   "execution_count": null,
   "metadata": {},
   "outputs": [],
   "source": [
    "mpconst.gamma_d"
   ]
  },
  {
   "cell_type": "markdown",
   "metadata": {},
   "source": [
    "These constants can be plugged directly into equations to preserve precision. For example, as in the ideal gas law:\n",
    "$$P = \\rho R_dT_v$$"
   ]
  },
  {
   "cell_type": "code",
   "execution_count": null,
   "metadata": {},
   "outputs": [],
   "source": [
    "# Set density (rho) and virtual temperature (Tv) example values\n",
    "rho = 1.18 * units('kg/m^3')\n",
    "Tv = 296 * units.K\n",
    "\n",
    "# Calculate pressure (P)\n",
    "P = rho * mpconst.Rd * Tv\n",
    "\n",
    "# Convert to hectopascal (hPa)\n",
    "print(P.to(units.hPa))"
   ]
  },
  {
   "cell_type": "markdown",
   "metadata": {},
   "source": [
    "<a href=\"#top\">Top</a>\n",
    "<hr style=\"height:2px;\">"
   ]
  },
  {
   "cell_type": "markdown",
   "metadata": {},
   "source": [
    "<a name=\"calculations\"></a>\n",
    "## MetPy Calculations\n",
    "MetPy also encompasses a set of calculations that are common in meteorology (with the goal of have all of the functionality of legacy software like GEMPAK and more). The [calculations documentation](https://unidata.github.io/MetPy/latest/api/generated/metpy.calc.html) has a complete list of the calculations in MetPy.\n",
    "\n",
    "We'll scratch the surface and show off a few simple calculations here, but will be using many during the workshop."
   ]
  },
  {
   "cell_type": "code",
   "execution_count": null,
   "metadata": {
    "tags": []
   },
   "outputs": [],
   "source": [
    "import metpy.calc as mpcalc\n",
    "import numpy as np"
   ]
  },
  {
   "cell_type": "code",
   "execution_count": null,
   "metadata": {},
   "outputs": [],
   "source": [
    "# Make some fake data for us to work with\n",
    "np.random.seed(19990503)  # So we all have the same data\n",
    "u = np.random.randint(0, 15, 10) * units('m/s')\n",
    "v = np.random.randint(0, 15, 10) * units('m/s')\n",
    "\n",
    "print(u)\n",
    "print(v)"
   ]
  },
  {
   "cell_type": "markdown",
   "metadata": {},
   "source": [
    "Let's use the `wind_direction` function from MetPy to calculate wind direction from these values. Remember you can look at the docstring or the website for help."
   ]
  },
  {
   "cell_type": "code",
   "execution_count": null,
   "metadata": {},
   "outputs": [],
   "source": [
    "direction = mpcalc.wind_direction(u, v)\n",
    "print(direction)"
   ]
  },
  {
   "cell_type": "markdown",
   "metadata": {},
   "source": [
    "<div class=\"alert alert-success\">\n",
    "    <b>EXERCISE</b>: Calculate geostrophic wind speed\n",
    "<br>\n",
    "For a given unit of mass, the geostrophic wind is a balance between two forces: the Coriolis (CoF) and pressure gradient (PGF) forces\n",
    "<br><br>\n",
    "$$CoF = 2 \\Omega V sin(\\phi)$$\n",
    "$$PGF = \\frac{1}{\\rho}\\frac{\\Delta P}{d}$$\n",
    "<br>\n",
    "    We can solve for the geostrophic wind speed of a unit mass using this equation:\n",
    "$$V_g = \\frac{1}{2 \\Omega sin(\\phi) \\rho}\\frac{\\Delta P}{d}$$\n",
    "<br>\n",
    "    Calculate the geostrophic wind speed in units of $m/s$ for a unit mass with the following parameters: \n",
    "    $$P_1 = 500\\,mb$$\n",
    "    $$P_2 = 504\\,mb$$\n",
    "    $$d = 200\\,km$$\n",
    "    $$\\phi = 40^{\\circ}$$\n",
    "    $$\\rho = 0.70\\,\\frac{kg}{m^3}$$\n",
    "</div>"
   ]
  },
  {
   "cell_type": "code",
   "execution_count": null,
   "metadata": {
    "tags": []
   },
   "outputs": [],
   "source": [
    "# YOUR CODE HERE"
   ]
  },
  {
   "cell_type": "markdown",
   "metadata": {},
   "source": [
    "<div class=\"alert alert-success\">\n",
    "    <b>STRETCH EXERCISE</b>: Temperature change\n",
    "\n",
    "A parcel at 60 degrees Fahrenheit is lifted dry adiabatically from the surface to a level of 1500 meters above ground level. \n",
    "    \n",
    "Assuming a dry adiabatic lapse rate of -10 degrees C per 1000 meters, what is the final temperature of the parcel after lifting?\n",
    "    \n",
    "<b>Hint:</b> Remember to group your units and scalar magnitude with parentheses.\n",
    "    \n",
    "<b>Bonus:</b> Assuming a moist adiabatic lapse rate of -6 degrees C per 1000 meters, what is the temperature of the parcel if it continues lifting moist adiabatically an additional 2000 meters? (Final elevation of 3500 meters)\n",
    "\n",
    "</div>"
   ]
  },
  {
   "cell_type": "code",
   "execution_count": null,
   "metadata": {},
   "outputs": [],
   "source": [
    "# YOUR CODE HERE"
   ]
  },
  {
   "cell_type": "markdown",
   "metadata": {},
   "source": [
    "## More Information\n",
    "\n",
    "### Further Practice\n",
    "MetPy User Guide: https://unidata.github.io/MetPy/latest/userguide\n",
    "\n",
    "MetPy Example Gallery: https://unidata.github.io/MetPy/latest/examples/index.html\n",
    "\n",
    "### Save Your Work\n",
    "<p>To save any of the files you modified or edited in this session:\n",
    "    <ol>\n",
    "        <li>Right click on any item in the left-side navigation pane</li>\n",
    "        <li>Select <b>Download</b></li>\n",
    "    </ol>\n",
    "</p>\n",
    "\n",
    "<p>\n",
    "    To recreate the Conda environment used for this session on your local computer:\n",
    "<ol>\n",
    "\t<li>\n",
    "\t\tOpen a terminal (Linux or MacOS) or Anaconda Prompt (Windows). <br>\n",
    "\t\tWindows users: If Anaconda Prompt does not exist on your computer, Conda is not installed. Proceed with step 2.2.\n",
    "\t</li>\n",
    "\t<li>\n",
    "\t\tConfirm that Conda is installed by executing: <br>\n",
    "\t\t<b>conda --version</b>\n",
    "\t\t<ol>\n",
    "\t\t\t<li>\n",
    "\t\t\t\tIf Conda is installed, a version number will be returned. Proceed to step 3.\n",
    "\t\t\t</li>\n",
    "\t\t\t<li>\n",
    "\t\t\t\tIf Conda is not installed, proceed with the installation instructions provided for your operating system at <a href=\"https://unidata.github.io/python-training/#installing-conda\" target=\"blank\">this link</a>, then proceed to step 3.\n",
    "\t\t\t</li>\n",
    "\t\t</ol>\n",
    "\t</li>\n",
    "\t<li>\n",
    "\t\tDownload the conda environment used in this workshop. On the link below, Shift + Right Click &gt; Save link as &gt; save the file as environment.yml in a location of your choosing.<br>\n",
    "\t\t<a href=\"https://raw.githubusercontent.com/Unidata/metpy-analysis/main/environment.yml\">https://raw.githubusercontent.com/Unidata/metpy-analysis/main/environment.yml</a>\n",
    "\t</li>\n",
    "\t<li>\n",
    "\t\tIn your terminal or command prompt, change directories to the location where the environment.yml file was saved. \n",
    "\t</li>\n",
    "\t<li>\n",
    "\t\tSet up the course Python environment with the following command. <br>\n",
    "\t\tNote: this will take a few minutes to complete. <br>\n",
    "\t\t<b>conda env create -f environment.yml</b>\n",
    "\t</li>\n",
    "\t<li>\n",
    "\t\tVerify that the environment installed correctly by looking for <b>metpy-analysis</b> in your conda environment list <br>\n",
    "\t\t<b>conda env list</b>\n",
    "\t</li>\n",
    "\t<li>\n",
    "\t\tTo use the new environment, activate the new environment<br>\n",
    "\t\t<b>conda activate metpy-analysis</b>\n",
    "\t</li>\n",
    "\t<li>\n",
    "\t\tLaunch Jupyter Lab<br>\n",
    "\t\t<b>jupyter lab</b>\n",
    "\t</li>\n",
    "</ol>\n",
    "  \n",
    "### Connect with Unidata\n",
    "https://twitter.com/unidata\n",
    "\n",
    "https://twitter.com/metpy\n",
    "\n",
    "https://youtube.com/unidatanews\n",
    "\n",
    "https://www.linkedin.com/company/unidatanews"
   ]
  },
  {
   "cell_type": "code",
   "execution_count": null,
   "metadata": {},
   "outputs": [],
   "source": []
  }
 ],
 "metadata": {
  "kernelspec": {
   "display_name": "Python 3 (ipykernel)",
   "language": "python",
   "name": "python3"
  },
  "language_info": {
   "codemirror_mode": {
    "name": "ipython",
    "version": 3
   },
   "file_extension": ".py",
   "mimetype": "text/x-python",
   "name": "python",
   "nbconvert_exporter": "python",
   "pygments_lexer": "ipython3",
   "version": "3.7.12"
  }
 },
 "nbformat": 4,
 "nbformat_minor": 4
}
