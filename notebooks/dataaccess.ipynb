{
 "cells": [
  {
   "attachments": {
    "b211f231-f371-4845-98ca-12713655b4e3.png": {
     "image/png": "[encoded data removed]"
    }
   },
   "cell_type": "markdown",
   "id": "21b9f811-cbfc-4865-8e9d-7fd66999aa36",
   "metadata": {},
   "source": [
    "![Unidata_logo_horizontal_small.png](attachment:b211f231-f371-4845-98ca-12713655b4e3.png)\n",
    "# Introduction to MetPy Prerequisite Lessons\n",
    "## Foundations in Data Access Activity Notebook\n",
    "\n",
    "<br>\n",
    "<p><b>How to use this Notebook:</b><br>\n",
    "This notebook pairs with the <i>Foundations in Data Access</i> lesson. <br>\n",
    "Follow along with the instructions presented in the lesson, then  <br>\n",
    "return to this notebook when prompted. After an activity, you  <br>\n",
    "will be prompted to return to the lesson to proceed. </p>"
   ]
  },
  {
   "cell_type": "markdown",
   "id": "a486f558-2a3f-4b10-9506-9dc526e8b7f4",
   "metadata": {},
   "source": [
    "### Activity 0: Import required packages"
   ]
  },
  {
   "cell_type": "code",
   "execution_count": null,
   "id": "0177096e-8b14-429b-98a2-7ec7449331e6",
   "metadata": {},
   "outputs": [],
   "source": [
    "## CELL 0A\n",
    "## INSTRUCTIONS: Run this cell\n",
    "\n",
    "import numpy as np\n",
    "import matplotlib.pyplot as plt\n",
    "import cartopy.crs as ccrs\n",
    "\n",
    "# Here is where we import the TDSCatalog class from Siphon for obtaining our data \n",
    "from siphon.catalog import TDSCatalog\n"
   ]
  },
  {
   "cell_type": "markdown",
   "id": "179d58d5-9e5e-47b6-a7b1-db4c3154af65",
   "metadata": {},
   "source": [
    "### Activity 1: Getting started with the THREDDS Data Server\n",
    "We can easily view a THREDDS Data Server (TDS) Catalog in a browser. For this activity, we'll examine Unidata's TDS catalog of case studies. \n",
    "\n",
    "<a href=\"https://thredds.ucar.edu/thredds/casestudies/catalog.html\" target=\"blank\">https://thredds.ucar.edu/thredds/casestudies/catalog.html</a>"
   ]
  },
  {
   "cell_type": "code",
   "execution_count": null,
   "id": "25c0f9a2-8754-4adc-b7cf-2c6633b96134",
   "metadata": {},
   "outputs": [],
   "source": [
    "## CELL 1A \n",
    "## INSTRUCTIONS: Open the TDS link above in a new tab in your browser. \n",
    "## Then browse the folders to find catalog URL to:\n",
    "##    Hurricane Harvey GOES-16 imagery\n",
    "##    Mesoscale-1 extent\n",
    "##    Channel 02\n",
    "##    on August 26, 2017\n",
    "\n",
    "# Paste the URL here as a string:\n",
    "url = \"\"\n",
    "\n",
    "# Change the URL above to be an xml document using Python's built-in replace module\n",
    "xmlurl = url.replace(\".html\", \".xml\")\n",
    "print(xmlurl)\n"
   ]
  },
  {
   "cell_type": "markdown",
   "id": "aa40267b-c575-4ee9-b5a7-1a88dd325cda",
   "metadata": {},
   "source": [
    "Now we have the catalog located, it's time to create and examine the TDSCatalog object"
   ]
  },
  {
   "cell_type": "code",
   "execution_count": null,
   "id": "d8c283b6-b4a0-48e7-8469-5137eead8c9d",
   "metadata": {},
   "outputs": [],
   "source": [
    "## CELL 1B\n",
    "## INSTRUCTIONS: Run this cell\n",
    "\n",
    "# Create the TDS Catalog object, satcat\n",
    "satcat = TDSCatalog(xmlurl)\n",
    "\n",
    "# The catalog itself isn't very useful to us. \n",
    "# What `is` useful is the datasets property of the object. \n",
    "# There are a LOT of items in the datasets property, so\n",
    "# let's just examine the first 10.\n",
    "satcat.datasets[0:10]\n"
   ]
  },
  {
   "cell_type": "markdown",
   "id": "7ed793be-fb17-464c-b3ff-f47bf1da62ae",
   "metadata": {},
   "source": [
    "The `datasets` property of the `satcat` object shows us a list of the .nc4 files that contain the data we'll use. "
   ]
  },
  {
   "cell_type": "code",
   "execution_count": null,
   "id": "64f04e89-c7c0-475f-9469-05990043160f",
   "metadata": {},
   "outputs": [],
   "source": [
    "## CELL 1C\n",
    "## INSTRUCTIONS: Determine how many total items are in satcat.datasets\n",
    "# Type your code below:\n",
    "\n"
   ]
  },
  {
   "cell_type": "markdown",
   "id": "9c345d47-e832-4ce2-a250-fa73f1df28c2",
   "metadata": {},
   "source": [
    "We now have a list of all files available in the catalog, but the data are not yet pulled into memory for visualization or analysis. For this, we need to use the `remote_access()` method from Siphon. "
   ]
  },
  {
   "cell_type": "code",
   "execution_count": null,
   "id": "b50eeea0-c78b-4303-8094-4d4368b6cf06",
   "metadata": {},
   "outputs": [],
   "source": [
    "## CELL 1D\n",
    "## INSTRUCTIONS: Run this cell\n",
    "\n",
    "# We will arbitrarily choose the 1000th file in the list to explore\n",
    "# In the next section, we will discuss the use of xarray here\n",
    "satdata = satcat.datasets[1000].remote_access(use_xarray=True)\n",
    "\n",
    "# Print the type of object that satdata is\n",
    "type(satdata)"
   ]
  },
  {
   "cell_type": "markdown",
   "id": "1fa77137-7533-4490-91ce-3119b61b2b55",
   "metadata": {},
   "source": [
    "Now we have an xarray `Dataset` that we can work with. However, we have not yet pulled back the layers enough to expose a single array we can visualize or do analysis with. To do any further work, we'll need to parse not only the data, but the metadata as well. In the next section, we'll explore this type of multi-dimensional dataset."
   ]
  },
  {
   "cell_type": "markdown",
   "id": "d097c5ef-8dbb-48ec-881e-96d7f88f3484",
   "metadata": {},
   "source": [
    "## When the above activity is complete, save this notebook and return to the course tab"
   ]
  },
  {
   "cell_type": "markdown",
   "id": "97b20092-3f7f-432b-a0bb-2c6b1f91ff69",
   "metadata": {},
   "source": [
    "### Activity 2: Explore Multi-dimensional data structures \n",
    "#### xarray HTML formatted usmmary tool\n",
    "Xarray has an HTML-formatted interactive summary tool for examing datasets. Simply execute the variable name to create the summary. "
   ]
  },
  {
   "cell_type": "code",
   "execution_count": null,
   "id": "a3c9fb18-10f4-45ca-9af7-3c1f95523324",
   "metadata": {},
   "outputs": [],
   "source": [
    "## CELL 2A \n",
    "## INSTRUCTIONS: Run this cell to create a formatted exploration tool for the xarray dataset\n",
    "\n",
    "satdata\n"
   ]
  },
  {
   "cell_type": "markdown",
   "id": "6a6328f8-1fe9-42c2-abe0-e5e334df238c",
   "metadata": {},
   "source": [
    "We now see an interactive summary of the dimensions, coordinates, variables, attributes for the dataset. This information can help with plotting, analysis, and generally understanding the data you are working with. Answer the questions below given the information in the HTML formatted summary table above."
   ]
  },
  {
   "cell_type": "code",
   "execution_count": null,
   "id": "f70f621e-9487-4846-b4bf-e2f0cfbd2cad",
   "metadata": {},
   "outputs": [],
   "source": [
    "## CELL 2B\n",
    "## INSTRUCTIONS: Find the following information about the dataset:\n",
    "\n",
    "# 1. The title, or full description of the dataset\n",
    "#     answer: \n",
    "# 2. The name of the variable that contains the satellite imagery \n",
    "#     answer: \n",
    "# 3. The coordinate system the data were collected in\n",
    "#     answer: \n",
    "# 4. The size of the array (# cells in x and y)\n",
    "#     answer: \n",
    "# 5. The metadata conventions the dataset uses\n",
    "#     answer: "
   ]
  },
  {
   "cell_type": "markdown",
   "id": "0d4cec7e-f3a1-461d-b2ea-a8d0a986c5da",
   "metadata": {},
   "source": [
    "#### Get the data array\n",
    "There are several ways to extract the array containing the satellite imagery from the xarray dataset depending on your specific use case. The method we'll use in this example uses MetPy and the parse_cf() method. "
   ]
  },
  {
   "cell_type": "code",
   "execution_count": null,
   "id": "58a06705-8c5b-4bce-9134-0567f574460b",
   "metadata": {},
   "outputs": [],
   "source": [
    "## CELL 2C\n",
    "## INSTRUCTIONS: set `var` as the name of the data variable from number 2 above as a string\n",
    "\n",
    "var = \"\"\n",
    "\n",
    "# import metpy\n",
    "import metpy\n",
    "\n",
    "# extract the data array from the xarray dataset\n",
    "satarray = satdata.metpy.parse_cf(var)\n",
    "type(satarray)"
   ]
  },
  {
   "cell_type": "markdown",
   "id": "168232ec-4e1e-4f65-b629-0d222f1f6931",
   "metadata": {},
   "source": [
    "#### Plot on projected axes with Cartopy\n",
    "Now we have an array that we can do analysis with or plot. Let's now pull the projection information from the dataset and plot it on projected axes with Cartopy. "
   ]
  },
  {
   "cell_type": "code",
   "execution_count": null,
   "id": "2c967dc2-8d09-4849-8bdf-5d9b911d1628",
   "metadata": {},
   "outputs": [],
   "source": [
    "## CELL 2D\n",
    "## INSTRUCTIONS: Set the projection for the data array\n",
    "# given the information in the satdata object\n",
    "# Use the Cartopy documentation for syntax\n",
    "# https://scitools.org.uk/cartopy/docs/latest/crs/projections.html\n",
    "# Or refer to the Foundations in Cartopy lesson\n",
    "\n",
    "# Set the projection of the data\n",
    "proj = \n",
    "\n",
    "# Plot the data\n",
    "fig = plt.figure()\n",
    "ax = fig.add_subplot(projection=proj)\n",
    "ax.imshow(satarray,transform=proj)"
   ]
  },
  {
   "cell_type": "markdown",
   "id": "a03b4d45-7c7d-45b4-8f22-93df0fa85ef0",
   "metadata": {},
   "source": [
    "## When the above activity is complete, save this notebook and return to the course tab"
   ]
  }
 ],
 "metadata": {
  "kernelspec": {
   "display_name": "Python [conda env:metpy-workshop]",
   "language": "python",
   "name": "conda-env-metpy-workshop-py"
  },
  "language_info": {
   "codemirror_mode": {
    "name": "ipython",
    "version": 3
   },
   "file_extension": ".py",
   "mimetype": "text/x-python",
   "name": "python",
   "nbconvert_exporter": "python",
   "pygments_lexer": "ipython3",
   "version": "3.9.7"
  }
 },
 "nbformat": 4,
 "nbformat_minor": 5
}
