{
 "cells": [
  {
   "attachments": {
    "b211f231-f371-4845-98ca-12713655b4e3.png": {
     "image/png": "[encoded data removed]"
    }
   },
   "cell_type": "markdown",
   "id": "21b9f811-cbfc-4865-8e9d-7fd66999aa36",
   "metadata": {},
   "source": [
    "![Unidata_logo_horizontal_small.png](attachment:b211f231-f371-4845-98ca-12713655b4e3.png)\n",
    "# Introduction to MetPy Prerequisite Lessons\n",
    "## Foundations in Cartopy Activity Notebook\n",
    "\n",
    "<br>\n",
    "<p><b>How to use this Notebook:</b><br>\n",
    "This notebook pairs with the <i>Foundations in Cartopy</i> lesson. <br>\n",
    "Follow along with the instructions presented in the lesson, then  <br>\n",
    "return to this notebook when prompted. After an activity, you  <br>\n",
    "will be prompted to return to the lesson to proceed. </p>"
   ]
  },
  {
   "cell_type": "markdown",
   "id": "a486f558-2a3f-4b10-9506-9dc526e8b7f4",
   "metadata": {},
   "source": [
    "### Activity 0: Import required packages"
   ]
  },
  {
   "cell_type": "code",
   "execution_count": null,
   "id": "0177096e-8b14-429b-98a2-7ec7449331e6",
   "metadata": {},
   "outputs": [],
   "source": [
    "## CELL 0A\n",
    "## INSTRUCTIONS: Run this cell\n",
    "\n",
    "# import cartopy (coordinate reference system class) using the standard abbreviation\n",
    "import cartopy.crs as ccrs\n",
    "\n",
    "# import matplotlib using the standard abbreviation\n",
    "import matplotlib.pyplot as plt\n",
    "\n",
    "# import numpy for creating data in a later step\n",
    "import numpy as np"
   ]
  },
  {
   "cell_type": "markdown",
   "id": "179d58d5-9e5e-47b6-a7b1-db4c3154af65",
   "metadata": {},
   "source": [
    "### Activity 1: Getting started with Cartopy\n",
    "The cell below matches the code samples provided in the lesson. Run the cell to examine the output."
   ]
  },
  {
   "cell_type": "code",
   "execution_count": null,
   "id": "25c0f9a2-8754-4adc-b7cf-2c6633b96134",
   "metadata": {},
   "outputs": [],
   "source": [
    "## CELL 1A \n",
    "## INSTRUCTIONS: Run this cell\n",
    "\n",
    "fig = plt.figure(figsize=(10,10))\n",
    "ax = fig.add_subplot(projection=ccrs.LambertConformal())\n",
    "ax.coastlines()"
   ]
  },
  {
   "cell_type": "markdown",
   "id": "aa40267b-c575-4ee9-b5a7-1a88dd325cda",
   "metadata": {},
   "source": [
    "Now try creating your own plot with any of the projections available from Cartopy and add coastlines for reference.<br> \n",
    "<a href=\"https://scitools.org.uk/cartopy/docs/latest/crs/projections.html\" target=\"blank\">Click here to view all available projections.</a>"
   ]
  },
  {
   "cell_type": "code",
   "execution_count": null,
   "id": "d8c283b6-b4a0-48e7-8469-5137eead8c9d",
   "metadata": {},
   "outputs": [],
   "source": [
    "## CELL 1B\n",
    "## INSTRUCTIONS: Create your own plot with any of the projections available from Cartopy and add coastlines for reference.\n",
    "\n"
   ]
  },
  {
   "cell_type": "markdown",
   "id": "d097c5ef-8dbb-48ec-881e-96d7f88f3484",
   "metadata": {},
   "source": [
    "## When the above activity is complete, save this notebook and return to the course tab"
   ]
  },
  {
   "cell_type": "markdown",
   "id": "97b20092-3f7f-432b-a0bb-2c6b1f91ff69",
   "metadata": {},
   "source": [
    "### Activity 2: Explore projections and transformations"
   ]
  },
  {
   "cell_type": "markdown",
   "id": "8112dc18-f5ae-4a77-8482-4d675f61094c",
   "metadata": {},
   "source": [
    "In the following exercises you will explore the necessity of knowing how your geographic data are defined with respect to referencing on a globe. We will prove this by creating our own data with a known coordinate reference system, and plotting it on different projected axes. "
   ]
  },
  {
   "cell_type": "markdown",
   "id": "4fcd9df4-d44f-4eb0-a369-ca94c1aa6921",
   "metadata": {},
   "source": [
    "#### Create and examine geographic data\n",
    "Create data in the cells below, then examine."
   ]
  },
  {
   "cell_type": "code",
   "execution_count": null,
   "id": "a3c9fb18-10f4-45ca-9af7-3c1f95523324",
   "metadata": {},
   "outputs": [],
   "source": [
    "## CELL 2A \n",
    "## INSTRUCTIONS: Run this cell to create working data\n",
    "\n",
    "# Create 1D arrays of longitudes and latitudes\n",
    "# in units of DEGREES\n",
    "lon1d = np.linspace(0, 180, 30)\n",
    "lat1d = np.linspace(0, 90, 30)\n",
    "\n",
    "# Create 2D arrays of longitudes and latitudes\n",
    "lon, lat = np.meshgrid(lon1d, lat1d)\n",
    "\n",
    "# Create \"data\"\n",
    "dat = np.cos(np.deg2rad(lat) * 3) + np.sin(np.deg2rad(lon) * 1)\n"
   ]
  },
  {
   "cell_type": "markdown",
   "id": "6a6328f8-1fe9-42c2-abe0-e5e334df238c",
   "metadata": {},
   "source": [
    "Let's now examine the arrays we'll be working with. What shape are each of the arrays (lat, lon, dat)? What do they look like?"
   ]
  },
  {
   "cell_type": "code",
   "execution_count": null,
   "id": "f70f621e-9487-4846-b4bf-e2f0cfbd2cad",
   "metadata": {},
   "outputs": [],
   "source": [
    "## CELL 2B\n",
    "## INSTRUCTIONS: Predict what the output of this cell will be, then run this cell\n",
    "\n",
    "print(\"Size of lat: \"+str(lat.shape[0])+\" columns, \"+str(lat.shape[1])+\" rows\")\n",
    "print(\"Size of lon: \"+str(lon.shape[0])+\" columns, \"+str(lon.shape[1])+\" rows\")\n",
    "print(\"Size of dat: \"+str(dat.shape[0])+\" columns, \"+str(dat.shape[1])+\" rows\")"
   ]
  },
  {
   "cell_type": "code",
   "execution_count": null,
   "id": "58a06705-8c5b-4bce-9134-0567f574460b",
   "metadata": {},
   "outputs": [],
   "source": [
    "## CELL 2C\n",
    "## INSTRUCTIONS: Plot the all three arrays (lat, lon, dat) using any method of your choosing - do not use any projected axes\n",
    "\n",
    "\n"
   ]
  },
  {
   "cell_type": "markdown",
   "id": "168232ec-4e1e-4f65-b629-0d222f1f6931",
   "metadata": {},
   "source": [
    "Now we know that all three arrays are of equal size and shape. What we can deduce from this is that each cell in our data array has some latitude and longitude value associated with it. This is what powers Cartopy to place our data arrays on a geographic map. "
   ]
  },
  {
   "cell_type": "markdown",
   "id": "5974e748-c708-47a7-a3d3-433740621139",
   "metadata": {},
   "source": [
    "#### Create projected axes and plot data\n",
    "Now let's plot these data onto projected axes as filled contours. The projection we will use is Plate Carree. This coordinate reference system uses degrees as its unit of measure, consistent with the units of the lat and lon arrays we just created. \n",
    "\n",
    "When referencing geographic data on projected axes with Cartopy, it's important to include the longitude and latitude arrays as input to the plotting function. \n",
    "\n",
    "`ax.contourf(longitudes, latitudes, data)`\n",
    "\n",
    "Note that you can include x and y arrays to non-geographic matplotlib plots as well, however, they are imperative to include in geographic plots so that the data display in the correct location. "
   ]
  },
  {
   "cell_type": "code",
   "execution_count": null,
   "id": "2c967dc2-8d09-4849-8bdf-5d9b911d1628",
   "metadata": {},
   "outputs": [],
   "source": [
    "## CELL 2D\n",
    "## INSTRUCTIONS: Run this cell to plot the data array on Plate Caree projected axes. \n",
    "\n",
    "fig = plt.figure(figsize=(8,6))\n",
    "ax = fig.add_subplot(projection=ccrs.PlateCarree())\n",
    "ax.coastlines()\n",
    "ax.contourf(lon, lat, dat)\n",
    "\n",
    "# Use the set_global() method to set the axes extent to the projection's full extent\n",
    "ax.set_global()"
   ]
  },
  {
   "cell_type": "markdown",
   "id": "b9a23d9e-0738-4e5f-8ad8-49b7d13130a6",
   "metadata": {},
   "source": [
    "The data array covers the eastern portion of the northern hemisphere, which is consistent with the latitude and longitude values we provided in CELL 2A. \n",
    "\n",
    "Let's now change the projection of the axes to a Rotated Pole. "
   ]
  },
  {
   "cell_type": "code",
   "execution_count": null,
   "id": "c8ebe983-7628-4115-bc54-fdb1e08354a8",
   "metadata": {},
   "outputs": [],
   "source": [
    "## CELL 2E\n",
    "## INSTRUCTIONS: Run this cell to plot the data array on Rotated Pole projected axes.\n",
    "\n",
    "fig = plt.figure(figsize=(8,6))\n",
    "ax = fig.add_subplot(projection=ccrs.RotatedPole(pole_longitude=-177.5, pole_latitude=37.5))\n",
    "ax.coastlines()\n",
    "ax.contourf(lon, lat, dat)\n",
    "ax.set_global()"
   ]
  },
  {
   "cell_type": "markdown",
   "id": "cea92026-6a1e-4c08-a327-f60a7ea821ad",
   "metadata": {},
   "source": [
    "Instead of data drawing over Asia, eastern Eurpose, and the northern portions of Africa, we see the array over Australia and New Zealand. \n",
    "\n",
    "Cartopy assumes that the data array were defined using the same coordinate reference system as the axes, Rotated Pole. Since we didn't tell Cartopy what coordinate reference system the data were defined in, the data draw in the incorrect place relative to the globe. \n",
    "\n",
    "To flag the coordinate reference system that the data were defined in, we use the `transform` keyword in the plotting function. \n",
    "\n",
    "<div class=\"admonition alert alert-info\">\n",
    "    <p class=\"admonition-title\" style=\"font-weight:bold\">Tip</p>\n",
    "    Best practice is to always use the <code>transform</code> keyword when plotting geographic data with Cartopy, even when the data are defined in the same coordinate reference system as the projected axes. \n",
    "</div>\n"
   ]
  },
  {
   "cell_type": "code",
   "execution_count": null,
   "id": "f8a5e18f-baf9-4fb9-9a35-a9ab2deb46ea",
   "metadata": {},
   "outputs": [],
   "source": [
    "## CELL 2F\n",
    "## INSTRUCTIONS: Run this cell to plot the data array correctly transformed on Rotated Pole projected axes.\n",
    "\n",
    "fig = plt.figure(figsize=(8,6))\n",
    "ax = fig.add_subplot(projection=ccrs.RotatedPole(pole_longitude=-177.5, pole_latitude=37.5))\n",
    "ax.coastlines()\n",
    "ax.contourf(lon, lat, dat, transform=ccrs.PlateCarree())\n",
    "ax.set_global()"
   ]
  },
  {
   "cell_type": "markdown",
   "id": "ce1d1b8d-4fb0-4cad-aec4-9c6c107f3289",
   "metadata": {},
   "source": [
    "The data array has correctly transformed itself to display on the Rotated Pole projected axes. \n",
    "\n",
    "Now try to plot the same data on <b>Mercator</b> projected axes. Refer to the <a href=\"https://scitools.org.uk/cartopy/docs/latest/crs/projections.html#mercator\" target=\"blank\">Cartopy documentation for the projection definition</a>."
   ]
  },
  {
   "cell_type": "code",
   "execution_count": null,
   "id": "34f828cd-d424-490a-86a2-33e48520e037",
   "metadata": {},
   "outputs": [],
   "source": [
    "## CELL 2G\n",
    "## INSTRUCTIONS: Create a plot of the data array from above on Mercator axes\n",
    "\n",
    "\n"
   ]
  },
  {
   "cell_type": "markdown",
   "id": "a03b4d45-7c7d-45b4-8f22-93df0fa85ef0",
   "metadata": {},
   "source": [
    "## When the above activity is complete, save this notebook and return to the course tab"
   ]
  }
 ],
 "metadata": {
  "kernelspec": {
   "display_name": "Python [conda env:metpy-workshop]",
   "language": "python",
   "name": "conda-env-metpy-workshop-py"
  },
  "language_info": {
   "codemirror_mode": {
    "name": "ipython",
    "version": 3
   },
   "file_extension": ".py",
   "mimetype": "text/x-python",
   "name": "python",
   "nbconvert_exporter": "python",
   "pygments_lexer": "ipython3",
   "version": "3.9.7"
  }
 },
 "nbformat": 4,
 "nbformat_minor": 5
}
